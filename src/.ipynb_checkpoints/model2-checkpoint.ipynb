{
 "cells": [
  {
   "cell_type": "markdown",
   "metadata": {},
   "source": [
    "# CNN model"
   ]
  },
  {
   "cell_type": "markdown",
   "metadata": {},
   "source": [
    "## 准备工作"
   ]
  },
  {
   "cell_type": "code",
   "execution_count": 333,
   "metadata": {
    "ExecuteTime": {
     "end_time": "2021-01-04T08:32:04.067556Z",
     "start_time": "2021-01-04T08:32:04.055839Z"
    }
   },
   "outputs": [],
   "source": [
    "train_path = \"../data/train.txt\"\n",
    "test_path = \"../data/test.txt\"\n",
    "train_process_path = \"../data/train_precessed.txt\"\n",
    "test_process_path = \"../data/test_processed.txt\"\n",
    "\n",
    "labels_dict = {'Cause-Effect': '0', 'Instrument-Agency': '1', 'Product-Producer': '2',\n",
    "                   'Content-Container': '3', 'Entity-Origin': '4', 'Entity-Destination': '5',\n",
    "                   'Component-Whole': '6', 'Member-Collection': '7', 'Message-Topic': '8',\n",
    "                   'Other': '9'}\n",
    "\n",
    "# 定义类别列表\n",
    "LABEL_INDEX = ['Cause-Effect', 'Instrument-Agency', 'Product-Producer',\n",
    "               'Content-Container', 'Entity-Origin', 'Entity-Destination',\n",
    "               'Component-Whole', 'Member-Collection', 'Message-Topic', 'Other']"
   ]
  },
  {
   "cell_type": "code",
   "execution_count": 339,
   "metadata": {
    "ExecuteTime": {
     "end_time": "2021-01-04T08:36:31.991025Z",
     "start_time": "2021-01-04T08:36:31.985527Z"
    }
   },
   "outputs": [],
   "source": [
    "import re\n",
    "import numpy as np\n",
    "import pandas as pd\n",
    "import tensorflow as tf\n",
    "import random\n",
    "\n",
    "from sklearn.preprocessing import LabelEncoder\n",
    "import keras as krs\n",
    "\n",
    "from sklearn.model_selection import train_test_split\n",
    "from matplotlib import pyplot as plt\n",
    "from sklearn.feature_extraction.text import TfidfVectorizer\n",
    "from sklearn.linear_model import LogisticRegression\n",
    "from sklearn.metrics import accuracy_score\n",
    "\n",
    "from sklearn.model_selection import KFold"
   ]
  },
  {
   "cell_type": "markdown",
   "metadata": {},
   "source": [
    "## 加载测试数据"
   ]
  },
  {
   "cell_type": "code",
   "execution_count": 302,
   "metadata": {
    "ExecuteTime": {
     "end_time": "2021-01-01T06:20:09.863825Z",
     "start_time": "2021-01-01T06:20:09.860318Z"
    }
   },
   "outputs": [],
   "source": [
    "def load_test_data(filename):\n",
    "    text_list = []\n",
    "    print(\"正在加载文本测试数据...\")\n",
    "    with open(filename, \"r\") as f:\n",
    "        for line in f.readlines():\n",
    "            item = line.strip().split('\\t')\n",
    "            text_list.append(item[0].lower())\n",
    "        \n",
    "    print(\"共加载了 %s 条数据\" % len(text_list))\n",
    "    return text_list\n",
    "\n",
    "# 读取测试集\n",
    "test_data_path = '../data/test_processed.txt'\n",
    "\n",
    "texts_test = load_test_data(test_data_path)\n",
    "texts_test = [\".\".join(t.lower().split(' ')) for t in texts_test]"
   ]
  },
  {
   "cell_type": "code",
   "execution_count": 563,
   "metadata": {
    "ExecuteTime": {
     "end_time": "2021-01-04T12:45:52.110992Z",
     "start_time": "2021-01-04T12:45:51.731216Z"
    }
   },
   "outputs": [],
   "source": [
    "# word2vec 词袋化\n",
    "vocab_processor = tf.contrib.learn.preprocessing.VocabularyProcessor(max_sequence_length,min_frequency=0)\n",
    "\n",
    "text_processed_test = np.array(list(vocab_processor.fit_transform(texts_test)))\n",
    "\n"
   ]
  },
  {
   "cell_type": "code",
   "execution_count": 564,
   "metadata": {
    "ExecuteTime": {
     "end_time": "2021-01-04T12:45:52.771471Z",
     "start_time": "2021-01-04T12:45:52.768341Z"
    }
   },
   "outputs": [
    {
     "data": {
      "text/plain": [
       "7715"
      ]
     },
     "execution_count": 564,
     "metadata": {},
     "output_type": "execute_result"
    }
   ],
   "source": [
    "len(vocab_dic)"
   ]
  },
  {
   "cell_type": "markdown",
   "metadata": {},
   "source": [
    "## 加载训练数据"
   ]
  },
  {
   "cell_type": "code",
   "execution_count": 385,
   "metadata": {
    "ExecuteTime": {
     "end_time": "2021-01-04T09:07:53.622961Z",
     "start_time": "2021-01-04T09:07:53.618396Z"
    }
   },
   "outputs": [],
   "source": [
    "def load_data(filename):\n",
    "    text_list = []\n",
    "    label_list = []\n",
    "    print(\"正在加载文本数据...\")\n",
    "    with open(filename, \"r\") as f:\n",
    "        for line in f.readlines():\n",
    "            item = line.strip().split('\\t')\n",
    "            label_list.append(item[2])\n",
    "            text_list.append(item[3])\n",
    "        \n",
    "    target = np.array(label_list)\n",
    "    print(\"共加载了 %s 条数据\" % target.shape)\n",
    "    return text_list, target"
   ]
  },
  {
   "cell_type": "code",
   "execution_count": 400,
   "metadata": {
    "ExecuteTime": {
     "end_time": "2021-01-04T09:14:33.849233Z",
     "start_time": "2021-01-04T09:14:33.830324Z"
    }
   },
   "outputs": [
    {
     "name": "stdout",
     "output_type": "stream",
     "text": [
      "正在加载文本数据...\n",
      "共加载了 6400 条数据\n"
     ]
    }
   ],
   "source": [
    "train_data_path = '../data/train_precessed.txt'\n",
    "test_data_path = '../data/test_processed.txt'\n",
    "\n",
    "texts, labels_tmp = load_data(train_data_path)\n",
    "labels_dict = {'Cause-Effect': '0', 'Instrument-Agency': '1', 'Product-Producer': '2',\n",
    "                   'Content-Container': '3', 'Entity-Origin': '4', 'Entity-Destination': '5',\n",
    "                   'Component-Whole': '6', 'Member-Collection': '7', 'Message-Topic': '8',\n",
    "                   'Other': '9'}\n",
    "\n",
    "texts = [texts[i].lower() for i in range(len(texts))]\n",
    "raw_texts = texts"
   ]
  },
  {
   "cell_type": "markdown",
   "metadata": {},
   "source": [
    "## 经检查，测试集最长的句子包含83个词，以83作为句子编码的长度"
   ]
  },
  {
   "cell_type": "code",
   "execution_count": 399,
   "metadata": {
    "ExecuteTime": {
     "end_time": "2021-01-04T09:14:31.280514Z",
     "start_time": "2021-01-04T09:14:31.271107Z"
    }
   },
   "outputs": [],
   "source": [
    "max_sequence_length = 83  # 每个样本保留83个词的长度\n",
    "labels = []\n",
    "for i in range(len(labels_tmp)):\n",
    "    lable = labels_dict[labels_tmp[i]]\n",
    "    labels.append(lable)\n",
    "labels = np.array(labels)\n",
    "raw_labels = labels"
   ]
  },
  {
   "cell_type": "markdown",
   "metadata": {},
   "source": [
    "## 训练十个BiLSTM模型，最后通过投票得出预测结果"
   ]
  },
  {
   "cell_type": "code",
   "execution_count": 510,
   "metadata": {
    "ExecuteTime": {
     "end_time": "2021-01-04T11:19:22.851346Z",
     "start_time": "2021-01-04T11:19:05.427885Z"
    }
   },
   "outputs": [
    {
     "name": "stderr",
     "output_type": "stream",
     "text": [
      "/opt/anaconda3/envs/tensorflow/lib/python3.7/site-packages/ipykernel_launcher.py:16: UserWarning: The `dropout` argument is no longer support in `Embedding`. You can apply a `keras.layers.SpatialDropout1D` layer right after the `Embedding` layer to get the same behavior.\n",
      "  app.launch_new_instance()\n"
     ]
    }
   ],
   "source": [
    "embedding_size = 100\n",
    "\n",
    "models = []\n",
    "BATCH_SIZE = 128\n",
    "EPOCH = 25\n",
    "ckpt = krs.callbacks.ModelCheckpoint('./temp/ckpt', monitor='val_categorical_accuracy', verbose=1,\n",
    "                                          save_best_only=True, save_weights_only=False, period=1)\n",
    "earlystop = krs.callbacks.EarlyStopping(monitor='val_loss', min_delta=0.0001,\n",
    "                                             patience=10, verbose=1)\n",
    "# patience: n次acc未增长则终止训练\n",
    "\n",
    "for i in range(10):\n",
    "    model = krs.Sequential()\n",
    "    model.add(krs.layers.Embedding(len(dict.items()),\n",
    "                embedding_size, input_length = max_sequence_length,\n",
    "                 mask_zero= True  ,dropout = 0.2  ))\n",
    "    model.add(krs.layers.Bidirectional(krs.layers.LSTM(100,dropout = 0.5)))\n",
    "    model.add(krs.layers.Dense(10))\n",
    "    model.add(krs.layers.Activation(\"softmax\"))\n",
    "    #model.summary()\n",
    "    model.compile(loss = \"categorical_crossentropy\", optimizer= \"adam\", metrics=[\"categorical_accuracy\"])\n",
    "    models.append(model)\n",
    "    "
   ]
  },
  {
   "cell_type": "code",
   "execution_count": 511,
   "metadata": {
    "ExecuteTime": {
     "end_time": "2021-01-04T11:19:22.892404Z",
     "start_time": "2021-01-04T11:19:22.887803Z"
    }
   },
   "outputs": [],
   "source": [
    "# 衰减学习率\n",
    "class LearningRateExponentialDecay:\n",
    "    def __init__(self, initial_learning_rate, decay_epochs, decay_rate):\n",
    "        self.initial_learning_rate = initial_learning_rate\n",
    "        self.decay_epochs = decay_epochs\n",
    "        self.decay_rate = decay_rate\n",
    "\n",
    "    def __call__(self, epoch):\n",
    "        dtype = type(self.initial_learning_rate)\n",
    "        decay_epochs = np.array(self.decay_epochs).astype(dtype)\n",
    "        decay_rate = np.array(self.decay_rate).astype(dtype)\n",
    "        epoch = np.array(epoch).astype(dtype)\n",
    "        p = epoch / decay_epochs\n",
    "        learning_rate = self.initial_learning_rate * np.power(decay_rate, p)\n",
    "        return learning_rate"
   ]
  },
  {
   "cell_type": "code",
   "execution_count": 512,
   "metadata": {
    "ExecuteTime": {
     "end_time": "2021-01-04T11:19:22.929059Z",
     "start_time": "2021-01-04T11:19:22.926613Z"
    }
   },
   "outputs": [],
   "source": [
    "kf = KFold(n_splits=10, shuffle=True)"
   ]
  },
  {
   "cell_type": "code",
   "execution_count": 513,
   "metadata": {
    "ExecuteTime": {
     "end_time": "2021-01-04T11:52:12.361671Z",
     "start_time": "2021-01-04T11:19:33.065135Z"
    }
   },
   "outputs": [
    {
     "name": "stdout",
     "output_type": "stream",
     "text": [
      "Train on 5760 samples, validate on 640 samples\n",
      "Epoch 1/25\n",
      "\n",
      "Epoch 00001: LearningRateScheduler setting learning rate to 0.0003.\n",
      "5760/5760 [==============================] - 17s 3ms/step - loss: 2.2849 - categorical_accuracy: 0.1521 - val_loss: 2.2558 - val_categorical_accuracy: 0.1469\n",
      "\n",
      "Epoch 00001: val_categorical_accuracy improved from -inf to 0.14687, saving model to ./temp/ckpt\n",
      "Epoch 2/25\n",
      "\n",
      "Epoch 00002: LearningRateScheduler setting learning rate to 0.0002973341922389158.\n",
      "5760/5760 [==============================] - 10s 2ms/step - loss: 2.2080 - categorical_accuracy: 0.1793 - val_loss: 2.1412 - val_categorical_accuracy: 0.2484\n",
      "\n",
      "Epoch 00002: val_categorical_accuracy improved from 0.14687 to 0.24844, saving model to ./temp/ckpt\n",
      "Epoch 3/25\n",
      "\n",
      "Epoch 00003: LearningRateScheduler setting learning rate to 0.0002946920729145618.\n",
      "5760/5760 [==============================] - 11s 2ms/step - loss: 2.0190 - categorical_accuracy: 0.3165 - val_loss: 1.9250 - val_categorical_accuracy: 0.3297\n",
      "\n",
      "Epoch 00003: val_categorical_accuracy improved from 0.24844 to 0.32969, saving model to ./temp/ckpt\n",
      "Epoch 4/25\n",
      "\n",
      "Epoch 00004: LearningRateScheduler setting learning rate to 0.0002920734315308764.\n",
      "5760/5760 [==============================] - 11s 2ms/step - loss: 1.8082 - categorical_accuracy: 0.3816 - val_loss: 1.7873 - val_categorical_accuracy: 0.3562\n",
      "\n",
      "Epoch 00004: val_categorical_accuracy improved from 0.32969 to 0.35625, saving model to ./temp/ckpt\n",
      "Epoch 5/25\n",
      "\n",
      "Epoch 00005: LearningRateScheduler setting learning rate to 0.00028947805946227145.\n",
      "5760/5760 [==============================] - 11s 2ms/step - loss: 1.6446 - categorical_accuracy: 0.4307 - val_loss: 1.7111 - val_categorical_accuracy: 0.4000\n",
      "\n",
      "Epoch 00005: val_categorical_accuracy improved from 0.35625 to 0.40000, saving model to ./temp/ckpt\n",
      "Epoch 6/25\n",
      "\n",
      "Epoch 00006: LearningRateScheduler setting learning rate to 0.0002869057499370111.\n",
      "5760/5760 [==============================] - 11s 2ms/step - loss: 1.4887 - categorical_accuracy: 0.4885 - val_loss: 1.6637 - val_categorical_accuracy: 0.4313\n",
      "\n",
      "Epoch 00006: val_categorical_accuracy improved from 0.40000 to 0.43125, saving model to ./temp/ckpt\n",
      "Epoch 7/25\n",
      "\n",
      "Epoch 00007: LearningRateScheduler setting learning rate to 0.00028435629802073855.\n",
      "5760/5760 [==============================] - 11s 2ms/step - loss: 1.3634 - categorical_accuracy: 0.5252 - val_loss: 1.6484 - val_categorical_accuracy: 0.4516\n",
      "\n",
      "Epoch 00007: val_categorical_accuracy improved from 0.43125 to 0.45156, saving model to ./temp/ckpt\n",
      "Epoch 8/25\n",
      "\n",
      "Epoch 00008: LearningRateScheduler setting learning rate to 0.00028182950060014905.\n",
      "5760/5760 [==============================] - 10s 2ms/step - loss: 1.2460 - categorical_accuracy: 0.5675 - val_loss: 1.6467 - val_categorical_accuracy: 0.4625\n",
      "\n",
      "Epoch 00008: val_categorical_accuracy improved from 0.45156 to 0.46250, saving model to ./temp/ckpt\n",
      "Epoch 9/25\n",
      "\n",
      "Epoch 00009: LearningRateScheduler setting learning rate to 0.0002793251563668079.\n",
      "5760/5760 [==============================] - 10s 2ms/step - loss: 1.1467 - categorical_accuracy: 0.6069 - val_loss: 1.6731 - val_categorical_accuracy: 0.4656\n",
      "\n",
      "Epoch 00009: val_categorical_accuracy improved from 0.46250 to 0.46562, saving model to ./temp/ckpt\n",
      "Epoch 10/25\n",
      "\n",
      "Epoch 00010: LearningRateScheduler setting learning rate to 0.00027684306580111226.\n",
      "5760/5760 [==============================] - 9s 2ms/step - loss: 1.0547 - categorical_accuracy: 0.6332 - val_loss: 1.7027 - val_categorical_accuracy: 0.4672\n",
      "\n",
      "Epoch 00010: val_categorical_accuracy improved from 0.46562 to 0.46719, saving model to ./temp/ckpt\n",
      "Epoch 11/25\n",
      "\n",
      "Epoch 00011: LearningRateScheduler setting learning rate to 0.0002743830311563958.\n",
      "5760/5760 [==============================] - 9s 2ms/step - loss: 0.9627 - categorical_accuracy: 0.6750 - val_loss: 1.7760 - val_categorical_accuracy: 0.4594\n",
      "\n",
      "Epoch 00011: val_categorical_accuracy did not improve from 0.46719\n",
      "Epoch 12/25\n",
      "\n",
      "Epoch 00012: LearningRateScheduler setting learning rate to 0.00027194485644317407.\n",
      "5760/5760 [==============================] - 9s 2ms/step - loss: 0.8865 - categorical_accuracy: 0.7049 - val_loss: 1.7691 - val_categorical_accuracy: 0.4500\n",
      "\n",
      "Epoch 00012: val_categorical_accuracy did not improve from 0.46719\n",
      "Epoch 13/25\n",
      "\n",
      "Epoch 00013: LearningRateScheduler setting learning rate to 0.0002695283474135303.\n",
      "5760/5760 [==============================] - 9s 2ms/step - loss: 0.8223 - categorical_accuracy: 0.7269 - val_loss: 1.8038 - val_categorical_accuracy: 0.4750\n",
      "\n",
      "Epoch 00013: val_categorical_accuracy improved from 0.46719 to 0.47500, saving model to ./temp/ckpt\n",
      "Epoch 14/25\n",
      "\n",
      "Epoch 00014: LearningRateScheduler setting learning rate to 0.0002671333115456397.\n",
      "5760/5760 [==============================] - 9s 2ms/step - loss: 0.7656 - categorical_accuracy: 0.7552 - val_loss: 1.8583 - val_categorical_accuracy: 0.4594\n",
      "\n",
      "Epoch 00014: val_categorical_accuracy did not improve from 0.47500\n",
      "Epoch 15/25\n",
      "\n",
      "Epoch 00015: LearningRateScheduler setting learning rate to 0.0002647595580284314.\n",
      "5760/5760 [==============================] - 9s 2ms/step - loss: 0.7026 - categorical_accuracy: 0.7833 - val_loss: 1.9152 - val_categorical_accuracy: 0.4672\n",
      "\n",
      "Epoch 00015: val_categorical_accuracy did not improve from 0.47500\n",
      "Epoch 16/25\n",
      "\n",
      "Epoch 00016: LearningRateScheduler setting learning rate to 0.00026240689774638675.\n",
      "5760/5760 [==============================] - 9s 2ms/step - loss: 0.6520 - categorical_accuracy: 0.7957 - val_loss: 1.9586 - val_categorical_accuracy: 0.4719\n",
      "\n",
      "Epoch 00016: val_categorical_accuracy did not improve from 0.47500\n",
      "Epoch 17/25\n",
      "\n",
      "Epoch 00017: LearningRateScheduler setting learning rate to 0.00026007514326447225.\n",
      "5760/5760 [==============================] - 9s 2ms/step - loss: 0.6065 - categorical_accuracy: 0.8153 - val_loss: 2.0131 - val_categorical_accuracy: 0.4750\n",
      "\n",
      "Epoch 00017: val_categorical_accuracy did not improve from 0.47500\n",
      "Epoch 18/25\n",
      "\n",
      "Epoch 00018: LearningRateScheduler setting learning rate to 0.00025776410881320726.\n",
      "5760/5760 [==============================] - 9s 2ms/step - loss: 0.5729 - categorical_accuracy: 0.8337 - val_loss: 1.9802 - val_categorical_accuracy: 0.4750\n",
      "\n",
      "Epoch 00018: val_categorical_accuracy did not improve from 0.47500\n",
      "Epoch 00018: early stopping\n",
      "models num: 1\n",
      "Train on 5760 samples, validate on 640 samples\n",
      "Epoch 1/25\n",
      "\n",
      "Epoch 00001: LearningRateScheduler setting learning rate to 0.0003.\n",
      "5760/5760 [==============================] - 17s 3ms/step - loss: 2.2860 - categorical_accuracy: 0.1503 - val_loss: 2.2635 - val_categorical_accuracy: 0.1719\n",
      "\n",
      "Epoch 00001: val_categorical_accuracy did not improve from 0.47500\n",
      "Epoch 2/25\n",
      "\n",
      "Epoch 00002: LearningRateScheduler setting learning rate to 0.0002973341922389158.\n",
      "5760/5760 [==============================] - 9s 2ms/step - loss: 2.2175 - categorical_accuracy: 0.2007 - val_loss: 2.1687 - val_categorical_accuracy: 0.2453\n",
      "\n",
      "Epoch 00002: val_categorical_accuracy did not improve from 0.47500\n",
      "Epoch 3/25\n",
      "\n",
      "Epoch 00003: LearningRateScheduler setting learning rate to 0.0002946920729145618.\n",
      "5760/5760 [==============================] - 9s 2ms/step - loss: 2.0409 - categorical_accuracy: 0.3035 - val_loss: 1.9325 - val_categorical_accuracy: 0.3328\n",
      "\n",
      "Epoch 00003: val_categorical_accuracy did not improve from 0.47500\n",
      "Epoch 4/25\n",
      "\n",
      "Epoch 00004: LearningRateScheduler setting learning rate to 0.0002920734315308764.\n",
      "5760/5760 [==============================] - 9s 2ms/step - loss: 1.7993 - categorical_accuracy: 0.3762 - val_loss: 1.8002 - val_categorical_accuracy: 0.3625\n",
      "\n",
      "Epoch 00004: val_categorical_accuracy did not improve from 0.47500\n",
      "Epoch 5/25\n",
      "\n",
      "Epoch 00005: LearningRateScheduler setting learning rate to 0.00028947805946227145.\n",
      "5760/5760 [==============================] - 9s 2ms/step - loss: 1.6162 - categorical_accuracy: 0.4486 - val_loss: 1.6995 - val_categorical_accuracy: 0.4062\n",
      "\n",
      "Epoch 00005: val_categorical_accuracy did not improve from 0.47500\n",
      "Epoch 6/25\n",
      "\n",
      "Epoch 00006: LearningRateScheduler setting learning rate to 0.0002869057499370111.\n",
      "5760/5760 [==============================] - 9s 2ms/step - loss: 1.4632 - categorical_accuracy: 0.5010 - val_loss: 1.6570 - val_categorical_accuracy: 0.4203\n",
      "\n",
      "Epoch 00006: val_categorical_accuracy did not improve from 0.47500\n",
      "Epoch 7/25\n",
      "\n",
      "Epoch 00007: LearningRateScheduler setting learning rate to 0.00028435629802073855.\n"
     ]
    },
    {
     "name": "stdout",
     "output_type": "stream",
     "text": [
      "5760/5760 [==============================] - 9s 2ms/step - loss: 1.3429 - categorical_accuracy: 0.5349 - val_loss: 1.6224 - val_categorical_accuracy: 0.4156\n",
      "\n",
      "Epoch 00007: val_categorical_accuracy did not improve from 0.47500\n",
      "Epoch 8/25\n",
      "\n",
      "Epoch 00008: LearningRateScheduler setting learning rate to 0.00028182950060014905.\n",
      "5760/5760 [==============================] - 9s 2ms/step - loss: 1.2327 - categorical_accuracy: 0.5740 - val_loss: 1.6010 - val_categorical_accuracy: 0.4281\n",
      "\n",
      "Epoch 00008: val_categorical_accuracy did not improve from 0.47500\n",
      "Epoch 9/25\n",
      "\n",
      "Epoch 00009: LearningRateScheduler setting learning rate to 0.0002793251563668079.\n",
      "5760/5760 [==============================] - 9s 2ms/step - loss: 1.1299 - categorical_accuracy: 0.6149 - val_loss: 1.5876 - val_categorical_accuracy: 0.4547\n",
      "\n",
      "Epoch 00009: val_categorical_accuracy did not improve from 0.47500\n",
      "Epoch 10/25\n",
      "\n",
      "Epoch 00010: LearningRateScheduler setting learning rate to 0.00027684306580111226.\n",
      "5760/5760 [==============================] - 9s 2ms/step - loss: 1.0538 - categorical_accuracy: 0.6455 - val_loss: 1.6387 - val_categorical_accuracy: 0.4359\n",
      "\n",
      "Epoch 00010: val_categorical_accuracy did not improve from 0.47500\n",
      "Epoch 11/25\n",
      "\n",
      "Epoch 00011: LearningRateScheduler setting learning rate to 0.0002743830311563958.\n",
      "5760/5760 [==============================] - 9s 2ms/step - loss: 0.9607 - categorical_accuracy: 0.6847 - val_loss: 1.6810 - val_categorical_accuracy: 0.4422\n",
      "\n",
      "Epoch 00011: val_categorical_accuracy did not improve from 0.47500\n",
      "Epoch 12/25\n",
      "\n",
      "Epoch 00012: LearningRateScheduler setting learning rate to 0.00027194485644317407.\n",
      "5760/5760 [==============================] - 9s 2ms/step - loss: 0.8818 - categorical_accuracy: 0.7151 - val_loss: 1.7062 - val_categorical_accuracy: 0.4422\n",
      "\n",
      "Epoch 00012: val_categorical_accuracy did not improve from 0.47500\n",
      "Epoch 13/25\n",
      "\n",
      "Epoch 00013: LearningRateScheduler setting learning rate to 0.0002695283474135303.\n",
      "5760/5760 [==============================] - 9s 2ms/step - loss: 0.8098 - categorical_accuracy: 0.7399 - val_loss: 1.6943 - val_categorical_accuracy: 0.4563\n",
      "\n",
      "Epoch 00013: val_categorical_accuracy did not improve from 0.47500\n",
      "Epoch 14/25\n",
      "\n",
      "Epoch 00014: LearningRateScheduler setting learning rate to 0.0002671333115456397.\n",
      "5760/5760 [==============================] - 9s 2ms/step - loss: 0.7435 - categorical_accuracy: 0.7755 - val_loss: 1.7289 - val_categorical_accuracy: 0.4547\n",
      "\n",
      "Epoch 00014: val_categorical_accuracy did not improve from 0.47500\n",
      "Epoch 15/25\n",
      "\n",
      "Epoch 00015: LearningRateScheduler setting learning rate to 0.0002647595580284314.\n",
      "5760/5760 [==============================] - 9s 2ms/step - loss: 0.6794 - categorical_accuracy: 0.7936 - val_loss: 1.7163 - val_categorical_accuracy: 0.4922\n",
      "\n",
      "Epoch 00015: val_categorical_accuracy improved from 0.47500 to 0.49219, saving model to ./temp/ckpt\n",
      "Epoch 16/25\n",
      "\n",
      "Epoch 00016: LearningRateScheduler setting learning rate to 0.00026240689774638675.\n",
      "5760/5760 [==============================] - 9s 2ms/step - loss: 0.6298 - categorical_accuracy: 0.8177 - val_loss: 1.7797 - val_categorical_accuracy: 0.4703\n",
      "\n",
      "Epoch 00016: val_categorical_accuracy did not improve from 0.49219\n",
      "Epoch 17/25\n",
      "\n",
      "Epoch 00017: LearningRateScheduler setting learning rate to 0.00026007514326447225.\n",
      "5760/5760 [==============================] - 9s 2ms/step - loss: 0.5801 - categorical_accuracy: 0.8333 - val_loss: 1.8209 - val_categorical_accuracy: 0.4844\n",
      "\n",
      "Epoch 00017: val_categorical_accuracy did not improve from 0.49219\n",
      "Epoch 18/25\n",
      "\n",
      "Epoch 00018: LearningRateScheduler setting learning rate to 0.00025776410881320726.\n",
      "5760/5760 [==============================] - 9s 2ms/step - loss: 0.5228 - categorical_accuracy: 0.8458 - val_loss: 1.8532 - val_categorical_accuracy: 0.4781\n",
      "\n",
      "Epoch 00018: val_categorical_accuracy did not improve from 0.49219\n",
      "Epoch 19/25\n",
      "\n",
      "Epoch 00019: LearningRateScheduler setting learning rate to 0.0002554736102738633.\n",
      "5760/5760 [==============================] - 9s 2ms/step - loss: 0.4949 - categorical_accuracy: 0.8576 - val_loss: 1.9062 - val_categorical_accuracy: 0.4844\n",
      "\n",
      "Epoch 00019: val_categorical_accuracy did not improve from 0.49219\n",
      "Epoch 00019: early stopping\n",
      "models num: 2\n",
      "Train on 5760 samples, validate on 640 samples\n",
      "Epoch 1/25\n",
      "\n",
      "Epoch 00001: LearningRateScheduler setting learning rate to 0.0003.\n",
      "5760/5760 [==============================] - 17s 3ms/step - loss: 2.2871 - categorical_accuracy: 0.1694 - val_loss: 2.2643 - val_categorical_accuracy: 0.1781\n",
      "\n",
      "Epoch 00001: val_categorical_accuracy did not improve from 0.49219\n",
      "Epoch 2/25\n",
      "\n",
      "Epoch 00002: LearningRateScheduler setting learning rate to 0.0002973341922389158.\n",
      "5760/5760 [==============================] - 9s 2ms/step - loss: 2.2212 - categorical_accuracy: 0.1854 - val_loss: 2.1641 - val_categorical_accuracy: 0.2484\n",
      "\n",
      "Epoch 00002: val_categorical_accuracy did not improve from 0.49219\n",
      "Epoch 3/25\n",
      "\n",
      "Epoch 00003: LearningRateScheduler setting learning rate to 0.0002946920729145618.\n",
      "5760/5760 [==============================] - 9s 2ms/step - loss: 2.0455 - categorical_accuracy: 0.3085 - val_loss: 1.9200 - val_categorical_accuracy: 0.3625\n",
      "\n",
      "Epoch 00003: val_categorical_accuracy did not improve from 0.49219\n",
      "Epoch 4/25\n",
      "\n",
      "Epoch 00004: LearningRateScheduler setting learning rate to 0.0002920734315308764.\n",
      "5760/5760 [==============================] - 9s 2ms/step - loss: 1.7933 - categorical_accuracy: 0.3780 - val_loss: 1.7467 - val_categorical_accuracy: 0.3859\n",
      "\n",
      "Epoch 00004: val_categorical_accuracy did not improve from 0.49219\n",
      "Epoch 5/25\n",
      "\n",
      "Epoch 00005: LearningRateScheduler setting learning rate to 0.00028947805946227145.\n",
      "5760/5760 [==============================] - 9s 2ms/step - loss: 1.6228 - categorical_accuracy: 0.4295 - val_loss: 1.6576 - val_categorical_accuracy: 0.4219\n",
      "\n",
      "Epoch 00005: val_categorical_accuracy did not improve from 0.49219\n",
      "Epoch 6/25\n",
      "\n",
      "Epoch 00006: LearningRateScheduler setting learning rate to 0.0002869057499370111.\n",
      "5760/5760 [==============================] - 10s 2ms/step - loss: 1.4912 - categorical_accuracy: 0.4819 - val_loss: 1.6083 - val_categorical_accuracy: 0.4422\n",
      "\n",
      "Epoch 00006: val_categorical_accuracy did not improve from 0.49219\n",
      "Epoch 7/25\n",
      "\n",
      "Epoch 00007: LearningRateScheduler setting learning rate to 0.00028435629802073855.\n",
      "5760/5760 [==============================] - 9s 2ms/step - loss: 1.3726 - categorical_accuracy: 0.5210 - val_loss: 1.5870 - val_categorical_accuracy: 0.4406\n",
      "\n",
      "Epoch 00007: val_categorical_accuracy did not improve from 0.49219\n",
      "Epoch 8/25\n",
      "\n",
      "Epoch 00008: LearningRateScheduler setting learning rate to 0.00028182950060014905.\n",
      "5760/5760 [==============================] - 9s 2ms/step - loss: 1.2615 - categorical_accuracy: 0.5497 - val_loss: 1.5621 - val_categorical_accuracy: 0.4500\n",
      "\n",
      "Epoch 00008: val_categorical_accuracy did not improve from 0.49219\n",
      "Epoch 9/25\n",
      "\n",
      "Epoch 00009: LearningRateScheduler setting learning rate to 0.0002793251563668079.\n",
      "5760/5760 [==============================] - 9s 2ms/step - loss: 1.1602 - categorical_accuracy: 0.5894 - val_loss: 1.5720 - val_categorical_accuracy: 0.4641\n",
      "\n",
      "Epoch 00009: val_categorical_accuracy did not improve from 0.49219\n",
      "Epoch 10/25\n",
      "\n",
      "Epoch 00010: LearningRateScheduler setting learning rate to 0.00027684306580111226.\n",
      "5760/5760 [==============================] - 9s 2ms/step - loss: 1.0692 - categorical_accuracy: 0.6245 - val_loss: 1.5941 - val_categorical_accuracy: 0.4734\n",
      "\n",
      "Epoch 00010: val_categorical_accuracy did not improve from 0.49219\n",
      "Epoch 11/25\n",
      "\n",
      "Epoch 00011: LearningRateScheduler setting learning rate to 0.0002743830311563958.\n",
      "5760/5760 [==============================] - 9s 2ms/step - loss: 0.9895 - categorical_accuracy: 0.6578 - val_loss: 1.6773 - val_categorical_accuracy: 0.4672\n",
      "\n",
      "Epoch 00011: val_categorical_accuracy did not improve from 0.49219\n",
      "Epoch 12/25\n",
      "\n",
      "Epoch 00012: LearningRateScheduler setting learning rate to 0.00027194485644317407.\n",
      "5760/5760 [==============================] - 9s 2ms/step - loss: 0.9123 - categorical_accuracy: 0.6938 - val_loss: 1.6452 - val_categorical_accuracy: 0.4719\n",
      "\n",
      "Epoch 00012: val_categorical_accuracy did not improve from 0.49219\n",
      "Epoch 13/25\n",
      "\n",
      "Epoch 00013: LearningRateScheduler setting learning rate to 0.0002695283474135303.\n"
     ]
    },
    {
     "name": "stdout",
     "output_type": "stream",
     "text": [
      "5760/5760 [==============================] - 9s 2ms/step - loss: 0.8295 - categorical_accuracy: 0.7231 - val_loss: 1.7515 - val_categorical_accuracy: 0.4734\n",
      "\n",
      "Epoch 00013: val_categorical_accuracy did not improve from 0.49219\n",
      "Epoch 14/25\n",
      "\n",
      "Epoch 00014: LearningRateScheduler setting learning rate to 0.0002671333115456397.\n",
      "5760/5760 [==============================] - 9s 2ms/step - loss: 0.7889 - categorical_accuracy: 0.7425 - val_loss: 1.7615 - val_categorical_accuracy: 0.4688\n",
      "\n",
      "Epoch 00014: val_categorical_accuracy did not improve from 0.49219\n",
      "Epoch 15/25\n",
      "\n",
      "Epoch 00015: LearningRateScheduler setting learning rate to 0.0002647595580284314.\n",
      "5760/5760 [==============================] - 9s 2ms/step - loss: 0.7147 - categorical_accuracy: 0.7776 - val_loss: 1.8176 - val_categorical_accuracy: 0.4703\n",
      "\n",
      "Epoch 00015: val_categorical_accuracy did not improve from 0.49219\n",
      "Epoch 16/25\n",
      "\n",
      "Epoch 00016: LearningRateScheduler setting learning rate to 0.00026240689774638675.\n",
      "5760/5760 [==============================] - 9s 2ms/step - loss: 0.6599 - categorical_accuracy: 0.7960 - val_loss: 1.8390 - val_categorical_accuracy: 0.4781\n",
      "\n",
      "Epoch 00016: val_categorical_accuracy did not improve from 0.49219\n",
      "Epoch 17/25\n",
      "\n",
      "Epoch 00017: LearningRateScheduler setting learning rate to 0.00026007514326447225.\n",
      "5760/5760 [==============================] - 9s 2ms/step - loss: 0.6284 - categorical_accuracy: 0.8052 - val_loss: 1.9361 - val_categorical_accuracy: 0.4625\n",
      "\n",
      "Epoch 00017: val_categorical_accuracy did not improve from 0.49219\n",
      "Epoch 18/25\n",
      "\n",
      "Epoch 00018: LearningRateScheduler setting learning rate to 0.00025776410881320726.\n",
      "5760/5760 [==============================] - 9s 2ms/step - loss: 0.5742 - categorical_accuracy: 0.8274 - val_loss: 1.9790 - val_categorical_accuracy: 0.4781\n",
      "\n",
      "Epoch 00018: val_categorical_accuracy did not improve from 0.49219\n",
      "Epoch 00018: early stopping\n",
      "models num: 3\n",
      "Train on 5760 samples, validate on 640 samples\n",
      "Epoch 1/25\n",
      "\n",
      "Epoch 00001: LearningRateScheduler setting learning rate to 0.0003.\n",
      "5760/5760 [==============================] - 17s 3ms/step - loss: 2.2833 - categorical_accuracy: 0.1604 - val_loss: 2.2611 - val_categorical_accuracy: 0.1594\n",
      "\n",
      "Epoch 00001: val_categorical_accuracy did not improve from 0.49219\n",
      "Epoch 2/25\n",
      "\n",
      "Epoch 00002: LearningRateScheduler setting learning rate to 0.0002973341922389158.\n",
      "5760/5760 [==============================] - 9s 2ms/step - loss: 2.2066 - categorical_accuracy: 0.1922 - val_loss: 2.1636 - val_categorical_accuracy: 0.2469\n",
      "\n",
      "Epoch 00002: val_categorical_accuracy did not improve from 0.49219\n",
      "Epoch 3/25\n",
      "\n",
      "Epoch 00003: LearningRateScheduler setting learning rate to 0.0002946920729145618.\n",
      "5760/5760 [==============================] - 9s 2ms/step - loss: 2.0167 - categorical_accuracy: 0.3139 - val_loss: 1.9379 - val_categorical_accuracy: 0.3594\n",
      "\n",
      "Epoch 00003: val_categorical_accuracy did not improve from 0.49219\n",
      "Epoch 4/25\n",
      "\n",
      "Epoch 00004: LearningRateScheduler setting learning rate to 0.0002920734315308764.\n",
      "5760/5760 [==============================] - 9s 2ms/step - loss: 1.7824 - categorical_accuracy: 0.3818 - val_loss: 1.8136 - val_categorical_accuracy: 0.3594\n",
      "\n",
      "Epoch 00004: val_categorical_accuracy did not improve from 0.49219\n",
      "Epoch 5/25\n",
      "\n",
      "Epoch 00005: LearningRateScheduler setting learning rate to 0.00028947805946227145.\n",
      "5760/5760 [==============================] - 9s 2ms/step - loss: 1.6324 - categorical_accuracy: 0.4214 - val_loss: 1.7335 - val_categorical_accuracy: 0.4031\n",
      "\n",
      "Epoch 00005: val_categorical_accuracy did not improve from 0.49219\n",
      "Epoch 6/25\n",
      "\n",
      "Epoch 00006: LearningRateScheduler setting learning rate to 0.0002869057499370111.\n",
      "5760/5760 [==============================] - 9s 2ms/step - loss: 1.5126 - categorical_accuracy: 0.4668 - val_loss: 1.6785 - val_categorical_accuracy: 0.4156\n",
      "\n",
      "Epoch 00006: val_categorical_accuracy did not improve from 0.49219\n",
      "Epoch 7/25\n",
      "\n",
      "Epoch 00007: LearningRateScheduler setting learning rate to 0.00028435629802073855.\n",
      "5760/5760 [==============================] - 9s 2ms/step - loss: 1.4022 - categorical_accuracy: 0.5128 - val_loss: 1.6481 - val_categorical_accuracy: 0.4500\n",
      "\n",
      "Epoch 00007: val_categorical_accuracy did not improve from 0.49219\n",
      "Epoch 8/25\n",
      "\n",
      "Epoch 00008: LearningRateScheduler setting learning rate to 0.00028182950060014905.\n",
      "5760/5760 [==============================] - 9s 2ms/step - loss: 1.3049 - categorical_accuracy: 0.5530 - val_loss: 1.6567 - val_categorical_accuracy: 0.4516\n",
      "\n",
      "Epoch 00008: val_categorical_accuracy did not improve from 0.49219\n",
      "Epoch 9/25\n",
      "\n",
      "Epoch 00009: LearningRateScheduler setting learning rate to 0.0002793251563668079.\n",
      "5760/5760 [==============================] - 9s 2ms/step - loss: 1.2035 - categorical_accuracy: 0.5903 - val_loss: 1.6453 - val_categorical_accuracy: 0.4625\n",
      "\n",
      "Epoch 00009: val_categorical_accuracy did not improve from 0.49219\n",
      "Epoch 10/25\n",
      "\n",
      "Epoch 00010: LearningRateScheduler setting learning rate to 0.00027684306580111226.\n",
      "5760/5760 [==============================] - 9s 2ms/step - loss: 1.1081 - categorical_accuracy: 0.6314 - val_loss: 1.6276 - val_categorical_accuracy: 0.4672\n",
      "\n",
      "Epoch 00010: val_categorical_accuracy did not improve from 0.49219\n",
      "Epoch 11/25\n",
      "\n",
      "Epoch 00011: LearningRateScheduler setting learning rate to 0.0002743830311563958.\n",
      "5760/5760 [==============================] - 9s 2ms/step - loss: 1.0179 - categorical_accuracy: 0.6679 - val_loss: 1.6367 - val_categorical_accuracy: 0.4688\n",
      "\n",
      "Epoch 00011: val_categorical_accuracy did not improve from 0.49219\n",
      "Epoch 12/25\n",
      "\n",
      "Epoch 00012: LearningRateScheduler setting learning rate to 0.00027194485644317407.\n",
      "5760/5760 [==============================] - 9s 2ms/step - loss: 0.9383 - categorical_accuracy: 0.6976 - val_loss: 1.6699 - val_categorical_accuracy: 0.4703\n",
      "\n",
      "Epoch 00012: val_categorical_accuracy did not improve from 0.49219\n",
      "Epoch 13/25\n",
      "\n",
      "Epoch 00013: LearningRateScheduler setting learning rate to 0.0002695283474135303.\n",
      "5760/5760 [==============================] - 9s 2ms/step - loss: 0.8513 - categorical_accuracy: 0.7323 - val_loss: 1.6975 - val_categorical_accuracy: 0.4859\n",
      "\n",
      "Epoch 00013: val_categorical_accuracy did not improve from 0.49219\n",
      "Epoch 14/25\n",
      "\n",
      "Epoch 00014: LearningRateScheduler setting learning rate to 0.0002671333115456397.\n",
      "5760/5760 [==============================] - 9s 2ms/step - loss: 0.7941 - categorical_accuracy: 0.7484 - val_loss: 1.7191 - val_categorical_accuracy: 0.4859\n",
      "\n",
      "Epoch 00014: val_categorical_accuracy did not improve from 0.49219\n",
      "Epoch 15/25\n",
      "\n",
      "Epoch 00015: LearningRateScheduler setting learning rate to 0.0002647595580284314.\n",
      "5760/5760 [==============================] - 9s 2ms/step - loss: 0.7388 - categorical_accuracy: 0.7672 - val_loss: 1.7687 - val_categorical_accuracy: 0.4953\n",
      "\n",
      "Epoch 00015: val_categorical_accuracy improved from 0.49219 to 0.49531, saving model to ./temp/ckpt\n",
      "Epoch 16/25\n",
      "\n",
      "Epoch 00016: LearningRateScheduler setting learning rate to 0.00026240689774638675.\n",
      "5760/5760 [==============================] - 9s 2ms/step - loss: 0.6823 - categorical_accuracy: 0.7908 - val_loss: 1.7602 - val_categorical_accuracy: 0.5109\n",
      "\n",
      "Epoch 00016: val_categorical_accuracy improved from 0.49531 to 0.51094, saving model to ./temp/ckpt\n",
      "Epoch 17/25\n",
      "\n",
      "Epoch 00017: LearningRateScheduler setting learning rate to 0.00026007514326447225.\n",
      "5760/5760 [==============================] - 9s 2ms/step - loss: 0.6274 - categorical_accuracy: 0.8026 - val_loss: 1.8179 - val_categorical_accuracy: 0.5141\n",
      "\n",
      "Epoch 00017: val_categorical_accuracy improved from 0.51094 to 0.51406, saving model to ./temp/ckpt\n",
      "Epoch 18/25\n",
      "\n",
      "Epoch 00018: LearningRateScheduler setting learning rate to 0.00025776410881320726.\n",
      "5760/5760 [==============================] - 9s 2ms/step - loss: 0.5962 - categorical_accuracy: 0.8222 - val_loss: 1.8088 - val_categorical_accuracy: 0.5047\n",
      "\n",
      "Epoch 00018: val_categorical_accuracy did not improve from 0.51406\n",
      "Epoch 19/25\n",
      "\n",
      "Epoch 00019: LearningRateScheduler setting learning rate to 0.0002554736102738633.\n",
      "5760/5760 [==============================] - 9s 2ms/step - loss: 0.5571 - categorical_accuracy: 0.8372 - val_loss: 1.8457 - val_categorical_accuracy: 0.5188\n",
      "\n",
      "Epoch 00019: val_categorical_accuracy improved from 0.51406 to 0.51875, saving model to ./temp/ckpt\n",
      "Epoch 20/25\n",
      "\n",
      "Epoch 00020: LearningRateScheduler setting learning rate to 0.00025320346516379574.\n"
     ]
    },
    {
     "name": "stdout",
     "output_type": "stream",
     "text": [
      "5760/5760 [==============================] - 9s 2ms/step - loss: 0.5070 - categorical_accuracy: 0.8464 - val_loss: 1.8870 - val_categorical_accuracy: 0.5219\n",
      "\n",
      "Epoch 00020: val_categorical_accuracy improved from 0.51875 to 0.52188, saving model to ./temp/ckpt\n",
      "Epoch 00020: early stopping\n",
      "models num: 4\n",
      "Train on 5760 samples, validate on 640 samples\n",
      "Epoch 1/25\n",
      "\n",
      "Epoch 00001: LearningRateScheduler setting learning rate to 0.0003.\n",
      "5760/5760 [==============================] - 17s 3ms/step - loss: 2.2846 - categorical_accuracy: 0.1582 - val_loss: 2.2589 - val_categorical_accuracy: 0.1562\n",
      "\n",
      "Epoch 00001: val_categorical_accuracy did not improve from 0.52188\n",
      "Epoch 2/25\n",
      "\n",
      "Epoch 00002: LearningRateScheduler setting learning rate to 0.0002973341922389158.\n",
      "5760/5760 [==============================] - 9s 2ms/step - loss: 2.2200 - categorical_accuracy: 0.1752 - val_loss: 2.1839 - val_categorical_accuracy: 0.2000\n",
      "\n",
      "Epoch 00002: val_categorical_accuracy did not improve from 0.52188\n",
      "Epoch 3/25\n",
      "\n",
      "Epoch 00003: LearningRateScheduler setting learning rate to 0.0002946920729145618.\n",
      "5760/5760 [==============================] - 9s 2ms/step - loss: 2.0567 - categorical_accuracy: 0.3069 - val_loss: 1.9573 - val_categorical_accuracy: 0.3422\n",
      "\n",
      "Epoch 00003: val_categorical_accuracy did not improve from 0.52188\n",
      "Epoch 4/25\n",
      "\n",
      "Epoch 00004: LearningRateScheduler setting learning rate to 0.0002920734315308764.\n",
      "5760/5760 [==============================] - 9s 2ms/step - loss: 1.8076 - categorical_accuracy: 0.3753 - val_loss: 1.7828 - val_categorical_accuracy: 0.3766\n",
      "\n",
      "Epoch 00004: val_categorical_accuracy did not improve from 0.52188\n",
      "Epoch 5/25\n",
      "\n",
      "Epoch 00005: LearningRateScheduler setting learning rate to 0.00028947805946227145.\n",
      "5760/5760 [==============================] - 9s 2ms/step - loss: 1.6357 - categorical_accuracy: 0.4377 - val_loss: 1.6921 - val_categorical_accuracy: 0.4031\n",
      "\n",
      "Epoch 00005: val_categorical_accuracy did not improve from 0.52188\n",
      "Epoch 6/25\n",
      "\n",
      "Epoch 00006: LearningRateScheduler setting learning rate to 0.0002869057499370111.\n",
      "5760/5760 [==============================] - 9s 2ms/step - loss: 1.4939 - categorical_accuracy: 0.4795 - val_loss: 1.6164 - val_categorical_accuracy: 0.4172\n",
      "\n",
      "Epoch 00006: val_categorical_accuracy did not improve from 0.52188\n",
      "Epoch 7/25\n",
      "\n",
      "Epoch 00007: LearningRateScheduler setting learning rate to 0.00028435629802073855.\n",
      "5760/5760 [==============================] - 9s 2ms/step - loss: 1.3622 - categorical_accuracy: 0.5283 - val_loss: 1.5812 - val_categorical_accuracy: 0.4359\n",
      "\n",
      "Epoch 00007: val_categorical_accuracy did not improve from 0.52188\n",
      "Epoch 8/25\n",
      "\n",
      "Epoch 00008: LearningRateScheduler setting learning rate to 0.00028182950060014905.\n",
      "5760/5760 [==============================] - 9s 2ms/step - loss: 1.2475 - categorical_accuracy: 0.5703 - val_loss: 1.5442 - val_categorical_accuracy: 0.4594\n",
      "\n",
      "Epoch 00008: val_categorical_accuracy did not improve from 0.52188\n",
      "Epoch 9/25\n",
      "\n",
      "Epoch 00009: LearningRateScheduler setting learning rate to 0.0002793251563668079.\n",
      "5760/5760 [==============================] - 9s 2ms/step - loss: 1.1264 - categorical_accuracy: 0.6210 - val_loss: 1.5503 - val_categorical_accuracy: 0.4594\n",
      "\n",
      "Epoch 00009: val_categorical_accuracy did not improve from 0.52188\n",
      "Epoch 10/25\n",
      "\n",
      "Epoch 00010: LearningRateScheduler setting learning rate to 0.00027684306580111226.\n",
      "5760/5760 [==============================] - 9s 2ms/step - loss: 1.0257 - categorical_accuracy: 0.6597 - val_loss: 1.5456 - val_categorical_accuracy: 0.4828\n",
      "\n",
      "Epoch 00010: val_categorical_accuracy did not improve from 0.52188\n",
      "Epoch 11/25\n",
      "\n",
      "Epoch 00011: LearningRateScheduler setting learning rate to 0.0002743830311563958.\n",
      "5760/5760 [==============================] - 9s 2ms/step - loss: 0.9310 - categorical_accuracy: 0.6967 - val_loss: 1.5464 - val_categorical_accuracy: 0.5000\n",
      "\n",
      "Epoch 00011: val_categorical_accuracy did not improve from 0.52188\n",
      "Epoch 12/25\n",
      "\n",
      "Epoch 00012: LearningRateScheduler setting learning rate to 0.00027194485644317407.\n",
      "5760/5760 [==============================] - 9s 2ms/step - loss: 0.8417 - categorical_accuracy: 0.7316 - val_loss: 1.5896 - val_categorical_accuracy: 0.5031\n",
      "\n",
      "Epoch 00012: val_categorical_accuracy did not improve from 0.52188\n",
      "Epoch 13/25\n",
      "\n",
      "Epoch 00013: LearningRateScheduler setting learning rate to 0.0002695283474135303.\n",
      "5760/5760 [==============================] - 9s 2ms/step - loss: 0.7685 - categorical_accuracy: 0.7594 - val_loss: 1.6219 - val_categorical_accuracy: 0.5125\n",
      "\n",
      "Epoch 00013: val_categorical_accuracy did not improve from 0.52188\n",
      "Epoch 14/25\n",
      "\n",
      "Epoch 00014: LearningRateScheduler setting learning rate to 0.0002671333115456397.\n",
      "5760/5760 [==============================] - 9s 2ms/step - loss: 0.7004 - categorical_accuracy: 0.7901 - val_loss: 1.6674 - val_categorical_accuracy: 0.5016\n",
      "\n",
      "Epoch 00014: val_categorical_accuracy did not improve from 0.52188\n",
      "Epoch 15/25\n",
      "\n",
      "Epoch 00015: LearningRateScheduler setting learning rate to 0.0002647595580284314.\n",
      "5760/5760 [==============================] - 9s 2ms/step - loss: 0.6373 - categorical_accuracy: 0.8045 - val_loss: 1.7045 - val_categorical_accuracy: 0.5125\n",
      "\n",
      "Epoch 00015: val_categorical_accuracy did not improve from 0.52188\n",
      "Epoch 16/25\n",
      "\n",
      "Epoch 00016: LearningRateScheduler setting learning rate to 0.00026240689774638675.\n",
      "5760/5760 [==============================] - 9s 2ms/step - loss: 0.5973 - categorical_accuracy: 0.8191 - val_loss: 1.7257 - val_categorical_accuracy: 0.5078\n",
      "\n",
      "Epoch 00016: val_categorical_accuracy did not improve from 0.52188\n",
      "Epoch 17/25\n",
      "\n",
      "Epoch 00017: LearningRateScheduler setting learning rate to 0.00026007514326447225.\n",
      "5760/5760 [==============================] - 9s 2ms/step - loss: 0.5497 - categorical_accuracy: 0.8285 - val_loss: 1.7839 - val_categorical_accuracy: 0.5234\n",
      "\n",
      "Epoch 00017: val_categorical_accuracy improved from 0.52188 to 0.52344, saving model to ./temp/ckpt\n",
      "Epoch 18/25\n",
      "\n",
      "Epoch 00018: LearningRateScheduler setting learning rate to 0.00025776410881320726.\n",
      "5760/5760 [==============================] - 9s 2ms/step - loss: 0.4994 - categorical_accuracy: 0.8524 - val_loss: 1.7917 - val_categorical_accuracy: 0.5266\n",
      "\n",
      "Epoch 00018: val_categorical_accuracy improved from 0.52344 to 0.52656, saving model to ./temp/ckpt\n",
      "Epoch 00018: early stopping\n",
      "models num: 5\n",
      "Train on 5760 samples, validate on 640 samples\n",
      "Epoch 1/25\n",
      "\n",
      "Epoch 00001: LearningRateScheduler setting learning rate to 0.0003.\n",
      "5760/5760 [==============================] - 17s 3ms/step - loss: 2.2861 - categorical_accuracy: 0.1533 - val_loss: 2.2622 - val_categorical_accuracy: 0.1531\n",
      "\n",
      "Epoch 00001: val_categorical_accuracy did not improve from 0.52656\n",
      "Epoch 2/25\n",
      "\n",
      "Epoch 00002: LearningRateScheduler setting learning rate to 0.0002973341922389158.\n",
      "5760/5760 [==============================] - 9s 2ms/step - loss: 2.2163 - categorical_accuracy: 0.1792 - val_loss: 2.1716 - val_categorical_accuracy: 0.2391\n",
      "\n",
      "Epoch 00002: val_categorical_accuracy did not improve from 0.52656\n",
      "Epoch 3/25\n",
      "\n",
      "Epoch 00003: LearningRateScheduler setting learning rate to 0.0002946920729145618.\n",
      "5760/5760 [==============================] - 9s 2ms/step - loss: 2.0699 - categorical_accuracy: 0.2852 - val_loss: 1.9445 - val_categorical_accuracy: 0.3469\n",
      "\n",
      "Epoch 00003: val_categorical_accuracy did not improve from 0.52656\n",
      "Epoch 4/25\n",
      "\n",
      "Epoch 00004: LearningRateScheduler setting learning rate to 0.0002920734315308764.\n",
      "5760/5760 [==============================] - 9s 2ms/step - loss: 1.8176 - categorical_accuracy: 0.3734 - val_loss: 1.7585 - val_categorical_accuracy: 0.4062\n",
      "\n",
      "Epoch 00004: val_categorical_accuracy did not improve from 0.52656\n",
      "Epoch 5/25\n",
      "\n",
      "Epoch 00005: LearningRateScheduler setting learning rate to 0.00028947805946227145.\n",
      "5760/5760 [==============================] - 9s 2ms/step - loss: 1.6338 - categorical_accuracy: 0.4424 - val_loss: 1.6457 - val_categorical_accuracy: 0.4266\n",
      "\n",
      "Epoch 00005: val_categorical_accuracy did not improve from 0.52656\n",
      "Epoch 6/25\n",
      "\n",
      "Epoch 00006: LearningRateScheduler setting learning rate to 0.0002869057499370111.\n",
      "5760/5760 [==============================] - 9s 2ms/step - loss: 1.4857 - categorical_accuracy: 0.4872 - val_loss: 1.5991 - val_categorical_accuracy: 0.4328\n",
      "\n",
      "Epoch 00006: val_categorical_accuracy did not improve from 0.52656\n",
      "Epoch 7/25\n",
      "\n",
      "Epoch 00007: LearningRateScheduler setting learning rate to 0.00028435629802073855.\n"
     ]
    },
    {
     "name": "stdout",
     "output_type": "stream",
     "text": [
      "5760/5760 [==============================] - 9s 2ms/step - loss: 1.3458 - categorical_accuracy: 0.5335 - val_loss: 1.5544 - val_categorical_accuracy: 0.4516\n",
      "\n",
      "Epoch 00007: val_categorical_accuracy did not improve from 0.52656\n",
      "Epoch 8/25\n",
      "\n",
      "Epoch 00008: LearningRateScheduler setting learning rate to 0.00028182950060014905.\n",
      "5760/5760 [==============================] - 9s 2ms/step - loss: 1.2381 - categorical_accuracy: 0.5701 - val_loss: 1.5686 - val_categorical_accuracy: 0.4734\n",
      "\n",
      "Epoch 00008: val_categorical_accuracy did not improve from 0.52656\n",
      "Epoch 9/25\n",
      "\n",
      "Epoch 00009: LearningRateScheduler setting learning rate to 0.0002793251563668079.\n",
      "5760/5760 [==============================] - 9s 2ms/step - loss: 1.1322 - categorical_accuracy: 0.6104 - val_loss: 1.5580 - val_categorical_accuracy: 0.4672\n",
      "\n",
      "Epoch 00009: val_categorical_accuracy did not improve from 0.52656\n",
      "Epoch 10/25\n",
      "\n",
      "Epoch 00010: LearningRateScheduler setting learning rate to 0.00027684306580111226.\n",
      "5760/5760 [==============================] - 9s 2ms/step - loss: 1.0367 - categorical_accuracy: 0.6448 - val_loss: 1.5760 - val_categorical_accuracy: 0.4703\n",
      "\n",
      "Epoch 00010: val_categorical_accuracy did not improve from 0.52656\n",
      "Epoch 11/25\n",
      "\n",
      "Epoch 00011: LearningRateScheduler setting learning rate to 0.0002743830311563958.\n",
      "5760/5760 [==============================] - 9s 2ms/step - loss: 0.9634 - categorical_accuracy: 0.6727 - val_loss: 1.5935 - val_categorical_accuracy: 0.4844\n",
      "\n",
      "Epoch 00011: val_categorical_accuracy did not improve from 0.52656\n",
      "Epoch 12/25\n",
      "\n",
      "Epoch 00012: LearningRateScheduler setting learning rate to 0.00027194485644317407.\n",
      "5760/5760 [==============================] - 9s 2ms/step - loss: 0.8958 - categorical_accuracy: 0.6957 - val_loss: 1.6092 - val_categorical_accuracy: 0.4859\n",
      "\n",
      "Epoch 00012: val_categorical_accuracy did not improve from 0.52656\n",
      "Epoch 13/25\n",
      "\n",
      "Epoch 00013: LearningRateScheduler setting learning rate to 0.0002695283474135303.\n",
      "5760/5760 [==============================] - 9s 2ms/step - loss: 0.8190 - categorical_accuracy: 0.7276 - val_loss: 1.6195 - val_categorical_accuracy: 0.4953\n",
      "\n",
      "Epoch 00013: val_categorical_accuracy did not improve from 0.52656\n",
      "Epoch 14/25\n",
      "\n",
      "Epoch 00014: LearningRateScheduler setting learning rate to 0.0002671333115456397.\n",
      "5760/5760 [==============================] - 9s 2ms/step - loss: 0.7569 - categorical_accuracy: 0.7616 - val_loss: 1.6263 - val_categorical_accuracy: 0.4812\n",
      "\n",
      "Epoch 00014: val_categorical_accuracy did not improve from 0.52656\n",
      "Epoch 15/25\n",
      "\n",
      "Epoch 00015: LearningRateScheduler setting learning rate to 0.0002647595580284314.\n",
      "5760/5760 [==============================] - 9s 2ms/step - loss: 0.6918 - categorical_accuracy: 0.7762 - val_loss: 1.7090 - val_categorical_accuracy: 0.4859\n",
      "\n",
      "Epoch 00015: val_categorical_accuracy did not improve from 0.52656\n",
      "Epoch 16/25\n",
      "\n",
      "Epoch 00016: LearningRateScheduler setting learning rate to 0.00026240689774638675.\n",
      "5760/5760 [==============================] - 9s 2ms/step - loss: 0.6522 - categorical_accuracy: 0.7932 - val_loss: 1.6937 - val_categorical_accuracy: 0.5016\n",
      "\n",
      "Epoch 00016: val_categorical_accuracy did not improve from 0.52656\n",
      "Epoch 17/25\n",
      "\n",
      "Epoch 00017: LearningRateScheduler setting learning rate to 0.00026007514326447225.\n",
      "5760/5760 [==============================] - 9s 2ms/step - loss: 0.6112 - categorical_accuracy: 0.8132 - val_loss: 1.7275 - val_categorical_accuracy: 0.5109\n",
      "\n",
      "Epoch 00017: val_categorical_accuracy did not improve from 0.52656\n",
      "Epoch 00017: early stopping\n",
      "models num: 6\n",
      "Train on 5760 samples, validate on 640 samples\n",
      "Epoch 1/25\n",
      "\n",
      "Epoch 00001: LearningRateScheduler setting learning rate to 0.0003.\n",
      "5760/5760 [==============================] - 17s 3ms/step - loss: 2.2843 - categorical_accuracy: 0.1628 - val_loss: 2.2646 - val_categorical_accuracy: 0.1375\n",
      "\n",
      "Epoch 00001: val_categorical_accuracy did not improve from 0.52656\n",
      "Epoch 2/25\n",
      "\n",
      "Epoch 00002: LearningRateScheduler setting learning rate to 0.0002973341922389158.\n",
      "5760/5760 [==============================] - 9s 2ms/step - loss: 2.2126 - categorical_accuracy: 0.1797 - val_loss: 2.1928 - val_categorical_accuracy: 0.1734\n",
      "\n",
      "Epoch 00002: val_categorical_accuracy did not improve from 0.52656\n",
      "Epoch 3/25\n",
      "\n",
      "Epoch 00003: LearningRateScheduler setting learning rate to 0.0002946920729145618.\n",
      "5760/5760 [==============================] - 9s 2ms/step - loss: 2.0546 - categorical_accuracy: 0.2917 - val_loss: 1.9948 - val_categorical_accuracy: 0.3219\n",
      "\n",
      "Epoch 00003: val_categorical_accuracy did not improve from 0.52656\n",
      "Epoch 4/25\n",
      "\n",
      "Epoch 00004: LearningRateScheduler setting learning rate to 0.0002920734315308764.\n",
      "5760/5760 [==============================] - 9s 2ms/step - loss: 1.8200 - categorical_accuracy: 0.3785 - val_loss: 1.8264 - val_categorical_accuracy: 0.3609\n",
      "\n",
      "Epoch 00004: val_categorical_accuracy did not improve from 0.52656\n",
      "Epoch 5/25\n",
      "\n",
      "Epoch 00005: LearningRateScheduler setting learning rate to 0.00028947805946227145.\n",
      "5760/5760 [==============================] - 9s 2ms/step - loss: 1.6468 - categorical_accuracy: 0.4344 - val_loss: 1.7068 - val_categorical_accuracy: 0.3969\n",
      "\n",
      "Epoch 00005: val_categorical_accuracy did not improve from 0.52656\n",
      "Epoch 6/25\n",
      "\n",
      "Epoch 00006: LearningRateScheduler setting learning rate to 0.0002869057499370111.\n",
      "5760/5760 [==============================] - 9s 2ms/step - loss: 1.4916 - categorical_accuracy: 0.4885 - val_loss: 1.6778 - val_categorical_accuracy: 0.4094\n",
      "\n",
      "Epoch 00006: val_categorical_accuracy did not improve from 0.52656\n",
      "Epoch 7/25\n",
      "\n",
      "Epoch 00007: LearningRateScheduler setting learning rate to 0.00028435629802073855.\n",
      "5760/5760 [==============================] - 10s 2ms/step - loss: 1.3599 - categorical_accuracy: 0.5352 - val_loss: 1.6359 - val_categorical_accuracy: 0.4328\n",
      "\n",
      "Epoch 00007: val_categorical_accuracy did not improve from 0.52656\n",
      "Epoch 8/25\n",
      "\n",
      "Epoch 00008: LearningRateScheduler setting learning rate to 0.00028182950060014905.\n",
      "5760/5760 [==============================] - 10s 2ms/step - loss: 1.2377 - categorical_accuracy: 0.5774 - val_loss: 1.6680 - val_categorical_accuracy: 0.4375\n",
      "\n",
      "Epoch 00008: val_categorical_accuracy did not improve from 0.52656\n",
      "Epoch 9/25\n",
      "\n",
      "Epoch 00009: LearningRateScheduler setting learning rate to 0.0002793251563668079.\n",
      "5760/5760 [==============================] - 10s 2ms/step - loss: 1.1476 - categorical_accuracy: 0.6106 - val_loss: 1.6612 - val_categorical_accuracy: 0.4375\n",
      "\n",
      "Epoch 00009: val_categorical_accuracy did not improve from 0.52656\n",
      "Epoch 10/25\n",
      "\n",
      "Epoch 00010: LearningRateScheduler setting learning rate to 0.00027684306580111226.\n",
      "5760/5760 [==============================] - 9s 2ms/step - loss: 1.0524 - categorical_accuracy: 0.6549 - val_loss: 1.7093 - val_categorical_accuracy: 0.4359\n",
      "\n",
      "Epoch 00010: val_categorical_accuracy did not improve from 0.52656\n",
      "Epoch 11/25\n",
      "\n",
      "Epoch 00011: LearningRateScheduler setting learning rate to 0.0002743830311563958.\n",
      "5760/5760 [==============================] - 10s 2ms/step - loss: 0.9674 - categorical_accuracy: 0.6887 - val_loss: 1.6965 - val_categorical_accuracy: 0.4500\n",
      "\n",
      "Epoch 00011: val_categorical_accuracy did not improve from 0.52656\n",
      "Epoch 12/25\n",
      "\n",
      "Epoch 00012: LearningRateScheduler setting learning rate to 0.00027194485644317407.\n",
      "5760/5760 [==============================] - 9s 2ms/step - loss: 0.8895 - categorical_accuracy: 0.7035 - val_loss: 1.7636 - val_categorical_accuracy: 0.4531\n",
      "\n",
      "Epoch 00012: val_categorical_accuracy did not improve from 0.52656\n",
      "Epoch 13/25\n",
      "\n",
      "Epoch 00013: LearningRateScheduler setting learning rate to 0.0002695283474135303.\n",
      "5760/5760 [==============================] - 10s 2ms/step - loss: 0.8187 - categorical_accuracy: 0.7373 - val_loss: 1.8369 - val_categorical_accuracy: 0.4547\n",
      "\n",
      "Epoch 00013: val_categorical_accuracy did not improve from 0.52656\n",
      "Epoch 14/25\n",
      "\n",
      "Epoch 00014: LearningRateScheduler setting learning rate to 0.0002671333115456397.\n",
      "5760/5760 [==============================] - 10s 2ms/step - loss: 0.7463 - categorical_accuracy: 0.7691 - val_loss: 1.8852 - val_categorical_accuracy: 0.4563\n",
      "\n",
      "Epoch 00014: val_categorical_accuracy did not improve from 0.52656\n",
      "Epoch 15/25\n",
      "\n",
      "Epoch 00015: LearningRateScheduler setting learning rate to 0.0002647595580284314.\n"
     ]
    },
    {
     "name": "stdout",
     "output_type": "stream",
     "text": [
      "5760/5760 [==============================] - 9s 2ms/step - loss: 0.6994 - categorical_accuracy: 0.7854 - val_loss: 1.9212 - val_categorical_accuracy: 0.4641\n",
      "\n",
      "Epoch 00015: val_categorical_accuracy did not improve from 0.52656\n",
      "Epoch 16/25\n",
      "\n",
      "Epoch 00016: LearningRateScheduler setting learning rate to 0.00026240689774638675.\n",
      "5760/5760 [==============================] - 10s 2ms/step - loss: 0.6494 - categorical_accuracy: 0.8014 - val_loss: 1.9818 - val_categorical_accuracy: 0.4672\n",
      "\n",
      "Epoch 00016: val_categorical_accuracy did not improve from 0.52656\n",
      "Epoch 17/25\n",
      "\n",
      "Epoch 00017: LearningRateScheduler setting learning rate to 0.00026007514326447225.\n",
      "5760/5760 [==============================] - 10s 2ms/step - loss: 0.6046 - categorical_accuracy: 0.8191 - val_loss: 1.9661 - val_categorical_accuracy: 0.4609\n",
      "\n",
      "Epoch 00017: val_categorical_accuracy did not improve from 0.52656\n",
      "Epoch 00017: early stopping\n",
      "models num: 7\n",
      "Train on 5760 samples, validate on 640 samples\n",
      "Epoch 1/25\n",
      "\n",
      "Epoch 00001: LearningRateScheduler setting learning rate to 0.0003.\n",
      "5760/5760 [==============================] - 18s 3ms/step - loss: 2.2869 - categorical_accuracy: 0.1526 - val_loss: 2.2521 - val_categorical_accuracy: 0.1719\n",
      "\n",
      "Epoch 00001: val_categorical_accuracy did not improve from 0.52656\n",
      "Epoch 2/25\n",
      "\n",
      "Epoch 00002: LearningRateScheduler setting learning rate to 0.0002973341922389158.\n",
      "5760/5760 [==============================] - 10s 2ms/step - loss: 2.2213 - categorical_accuracy: 0.1790 - val_loss: 2.1725 - val_categorical_accuracy: 0.2016\n",
      "\n",
      "Epoch 00002: val_categorical_accuracy did not improve from 0.52656\n",
      "Epoch 3/25\n",
      "\n",
      "Epoch 00003: LearningRateScheduler setting learning rate to 0.0002946920729145618.\n",
      "5760/5760 [==============================] - 9s 2ms/step - loss: 2.0647 - categorical_accuracy: 0.2814 - val_loss: 1.9974 - val_categorical_accuracy: 0.3187\n",
      "\n",
      "Epoch 00003: val_categorical_accuracy did not improve from 0.52656\n",
      "Epoch 4/25\n",
      "\n",
      "Epoch 00004: LearningRateScheduler setting learning rate to 0.0002920734315308764.\n",
      "5760/5760 [==============================] - 9s 2ms/step - loss: 1.8119 - categorical_accuracy: 0.3733 - val_loss: 1.8669 - val_categorical_accuracy: 0.3469\n",
      "\n",
      "Epoch 00004: val_categorical_accuracy did not improve from 0.52656\n",
      "Epoch 5/25\n",
      "\n",
      "Epoch 00005: LearningRateScheduler setting learning rate to 0.00028947805946227145.\n",
      "5760/5760 [==============================] - 9s 2ms/step - loss: 1.6211 - categorical_accuracy: 0.4286 - val_loss: 1.7970 - val_categorical_accuracy: 0.3812\n",
      "\n",
      "Epoch 00005: val_categorical_accuracy did not improve from 0.52656\n",
      "Epoch 6/25\n",
      "\n",
      "Epoch 00006: LearningRateScheduler setting learning rate to 0.0002869057499370111.\n",
      "5760/5760 [==============================] - 10s 2ms/step - loss: 1.4621 - categorical_accuracy: 0.4903 - val_loss: 1.7682 - val_categorical_accuracy: 0.3953\n",
      "\n",
      "Epoch 00006: val_categorical_accuracy did not improve from 0.52656\n",
      "Epoch 7/25\n",
      "\n",
      "Epoch 00007: LearningRateScheduler setting learning rate to 0.00028435629802073855.\n",
      "5760/5760 [==============================] - 10s 2ms/step - loss: 1.3236 - categorical_accuracy: 0.5377 - val_loss: 1.7425 - val_categorical_accuracy: 0.4125\n",
      "\n",
      "Epoch 00007: val_categorical_accuracy did not improve from 0.52656\n",
      "Epoch 8/25\n",
      "\n",
      "Epoch 00008: LearningRateScheduler setting learning rate to 0.00028182950060014905.\n",
      "5760/5760 [==============================] - 9s 2ms/step - loss: 1.2061 - categorical_accuracy: 0.5866 - val_loss: 1.7447 - val_categorical_accuracy: 0.4359\n",
      "\n",
      "Epoch 00008: val_categorical_accuracy did not improve from 0.52656\n",
      "Epoch 9/25\n",
      "\n",
      "Epoch 00009: LearningRateScheduler setting learning rate to 0.0002793251563668079.\n",
      "5760/5760 [==============================] - 9s 2ms/step - loss: 1.1057 - categorical_accuracy: 0.6293 - val_loss: 1.7471 - val_categorical_accuracy: 0.4406\n",
      "\n",
      "Epoch 00009: val_categorical_accuracy did not improve from 0.52656\n",
      "Epoch 10/25\n",
      "\n",
      "Epoch 00010: LearningRateScheduler setting learning rate to 0.00027684306580111226.\n",
      "5760/5760 [==============================] - 9s 2ms/step - loss: 1.0142 - categorical_accuracy: 0.6646 - val_loss: 1.7420 - val_categorical_accuracy: 0.4719\n",
      "\n",
      "Epoch 00010: val_categorical_accuracy did not improve from 0.52656\n",
      "Epoch 11/25\n",
      "\n",
      "Epoch 00011: LearningRateScheduler setting learning rate to 0.0002743830311563958.\n",
      "5760/5760 [==============================] - 10s 2ms/step - loss: 0.9286 - categorical_accuracy: 0.7078 - val_loss: 1.7841 - val_categorical_accuracy: 0.4609\n",
      "\n",
      "Epoch 00011: val_categorical_accuracy did not improve from 0.52656\n",
      "Epoch 12/25\n",
      "\n",
      "Epoch 00012: LearningRateScheduler setting learning rate to 0.00027194485644317407.\n",
      "5760/5760 [==============================] - 10s 2ms/step - loss: 0.8399 - categorical_accuracy: 0.7377 - val_loss: 1.8230 - val_categorical_accuracy: 0.4672\n",
      "\n",
      "Epoch 00012: val_categorical_accuracy did not improve from 0.52656\n",
      "Epoch 13/25\n",
      "\n",
      "Epoch 00013: LearningRateScheduler setting learning rate to 0.0002695283474135303.\n",
      "5760/5760 [==============================] - 10s 2ms/step - loss: 0.7696 - categorical_accuracy: 0.7644 - val_loss: 1.8353 - val_categorical_accuracy: 0.4609\n",
      "\n",
      "Epoch 00013: val_categorical_accuracy did not improve from 0.52656\n",
      "Epoch 14/25\n",
      "\n",
      "Epoch 00014: LearningRateScheduler setting learning rate to 0.0002671333115456397.\n",
      "5760/5760 [==============================] - 11s 2ms/step - loss: 0.7100 - categorical_accuracy: 0.7887 - val_loss: 1.9096 - val_categorical_accuracy: 0.4719\n",
      "\n",
      "Epoch 00014: val_categorical_accuracy did not improve from 0.52656\n",
      "Epoch 15/25\n",
      "\n",
      "Epoch 00015: LearningRateScheduler setting learning rate to 0.0002647595580284314.\n",
      "5760/5760 [==============================] - 11s 2ms/step - loss: 0.6527 - categorical_accuracy: 0.8052 - val_loss: 1.9207 - val_categorical_accuracy: 0.4781\n",
      "\n",
      "Epoch 00015: val_categorical_accuracy did not improve from 0.52656\n",
      "Epoch 16/25\n",
      "\n",
      "Epoch 00016: LearningRateScheduler setting learning rate to 0.00026240689774638675.\n",
      "5760/5760 [==============================] - 11s 2ms/step - loss: 0.6027 - categorical_accuracy: 0.8231 - val_loss: 1.9477 - val_categorical_accuracy: 0.4672\n",
      "\n",
      "Epoch 00016: val_categorical_accuracy did not improve from 0.52656\n",
      "Epoch 17/25\n",
      "\n",
      "Epoch 00017: LearningRateScheduler setting learning rate to 0.00026007514326447225.\n",
      "5760/5760 [==============================] - 12s 2ms/step - loss: 0.5585 - categorical_accuracy: 0.8347 - val_loss: 1.9971 - val_categorical_accuracy: 0.4703\n",
      "\n",
      "Epoch 00017: val_categorical_accuracy did not improve from 0.52656\n",
      "Epoch 18/25\n",
      "\n",
      "Epoch 00018: LearningRateScheduler setting learning rate to 0.00025776410881320726.\n",
      "5760/5760 [==============================] - 11s 2ms/step - loss: 0.5141 - categorical_accuracy: 0.8530 - val_loss: 2.1261 - val_categorical_accuracy: 0.4672\n",
      "\n",
      "Epoch 00018: val_categorical_accuracy did not improve from 0.52656\n",
      "Epoch 19/25\n",
      "\n",
      "Epoch 00019: LearningRateScheduler setting learning rate to 0.0002554736102738633.\n",
      "5760/5760 [==============================] - 12s 2ms/step - loss: 0.4854 - categorical_accuracy: 0.8589 - val_loss: 2.0932 - val_categorical_accuracy: 0.4719\n",
      "\n",
      "Epoch 00019: val_categorical_accuracy did not improve from 0.52656\n",
      "Epoch 20/25\n",
      "\n",
      "Epoch 00020: LearningRateScheduler setting learning rate to 0.00025320346516379574.\n",
      "5760/5760 [==============================] - 12s 2ms/step - loss: 0.4517 - categorical_accuracy: 0.8689 - val_loss: 2.1582 - val_categorical_accuracy: 0.4703\n",
      "\n",
      "Epoch 00020: val_categorical_accuracy did not improve from 0.52656\n",
      "Epoch 00020: early stopping\n",
      "models num: 8\n",
      "Train on 5760 samples, validate on 640 samples\n",
      "Epoch 1/25\n",
      "\n",
      "Epoch 00001: LearningRateScheduler setting learning rate to 0.0003.\n",
      "5760/5760 [==============================] - 20s 3ms/step - loss: 2.2853 - categorical_accuracy: 0.1517 - val_loss: 2.2569 - val_categorical_accuracy: 0.1844\n",
      "\n",
      "Epoch 00001: val_categorical_accuracy did not improve from 0.52656\n",
      "Epoch 2/25\n",
      "\n",
      "Epoch 00002: LearningRateScheduler setting learning rate to 0.0002973341922389158.\n",
      "5760/5760 [==============================] - 11s 2ms/step - loss: 2.2213 - categorical_accuracy: 0.1769 - val_loss: 2.1696 - val_categorical_accuracy: 0.2328\n",
      "\n",
      "Epoch 00002: val_categorical_accuracy did not improve from 0.52656\n",
      "Epoch 3/25\n",
      "\n",
      "Epoch 00003: LearningRateScheduler setting learning rate to 0.0002946920729145618.\n"
     ]
    },
    {
     "name": "stdout",
     "output_type": "stream",
     "text": [
      "5760/5760 [==============================] - 10s 2ms/step - loss: 2.0524 - categorical_accuracy: 0.3059 - val_loss: 1.9446 - val_categorical_accuracy: 0.3406\n",
      "\n",
      "Epoch 00003: val_categorical_accuracy did not improve from 0.52656\n",
      "Epoch 4/25\n",
      "\n",
      "Epoch 00004: LearningRateScheduler setting learning rate to 0.0002920734315308764.\n",
      "5760/5760 [==============================] - 10s 2ms/step - loss: 1.7981 - categorical_accuracy: 0.3898 - val_loss: 1.7879 - val_categorical_accuracy: 0.3828\n",
      "\n",
      "Epoch 00004: val_categorical_accuracy did not improve from 0.52656\n",
      "Epoch 5/25\n",
      "\n",
      "Epoch 00005: LearningRateScheduler setting learning rate to 0.00028947805946227145.\n",
      "5760/5760 [==============================] - 10s 2ms/step - loss: 1.6169 - categorical_accuracy: 0.4479 - val_loss: 1.6890 - val_categorical_accuracy: 0.4172\n",
      "\n",
      "Epoch 00005: val_categorical_accuracy did not improve from 0.52656\n",
      "Epoch 6/25\n",
      "\n",
      "Epoch 00006: LearningRateScheduler setting learning rate to 0.0002869057499370111.\n",
      "5760/5760 [==============================] - 11s 2ms/step - loss: 1.4564 - categorical_accuracy: 0.5033 - val_loss: 1.6357 - val_categorical_accuracy: 0.4391\n",
      "\n",
      "Epoch 00006: val_categorical_accuracy did not improve from 0.52656\n",
      "Epoch 7/25\n",
      "\n",
      "Epoch 00007: LearningRateScheduler setting learning rate to 0.00028435629802073855.\n",
      "5760/5760 [==============================] - 11s 2ms/step - loss: 1.3173 - categorical_accuracy: 0.5538 - val_loss: 1.5956 - val_categorical_accuracy: 0.4469\n",
      "\n",
      "Epoch 00007: val_categorical_accuracy did not improve from 0.52656\n",
      "Epoch 8/25\n",
      "\n",
      "Epoch 00008: LearningRateScheduler setting learning rate to 0.00028182950060014905.\n",
      "5760/5760 [==============================] - 10s 2ms/step - loss: 1.2108 - categorical_accuracy: 0.5991 - val_loss: 1.6311 - val_categorical_accuracy: 0.4484\n",
      "\n",
      "Epoch 00008: val_categorical_accuracy did not improve from 0.52656\n",
      "Epoch 9/25\n",
      "\n",
      "Epoch 00009: LearningRateScheduler setting learning rate to 0.0002793251563668079.\n",
      "5760/5760 [==============================] - 10s 2ms/step - loss: 1.1053 - categorical_accuracy: 0.6333 - val_loss: 1.6292 - val_categorical_accuracy: 0.4703\n",
      "\n",
      "Epoch 00009: val_categorical_accuracy did not improve from 0.52656\n",
      "Epoch 10/25\n",
      "\n",
      "Epoch 00010: LearningRateScheduler setting learning rate to 0.00027684306580111226.\n",
      "5760/5760 [==============================] - 10s 2ms/step - loss: 1.0145 - categorical_accuracy: 0.6618 - val_loss: 1.6813 - val_categorical_accuracy: 0.4578\n",
      "\n",
      "Epoch 00010: val_categorical_accuracy did not improve from 0.52656\n",
      "Epoch 11/25\n",
      "\n",
      "Epoch 00011: LearningRateScheduler setting learning rate to 0.0002743830311563958.\n",
      "5760/5760 [==============================] - 10s 2ms/step - loss: 0.9414 - categorical_accuracy: 0.6882 - val_loss: 1.6830 - val_categorical_accuracy: 0.4594\n",
      "\n",
      "Epoch 00011: val_categorical_accuracy did not improve from 0.52656\n",
      "Epoch 12/25\n",
      "\n",
      "Epoch 00012: LearningRateScheduler setting learning rate to 0.00027194485644317407.\n",
      "5760/5760 [==============================] - 10s 2ms/step - loss: 0.8666 - categorical_accuracy: 0.7210 - val_loss: 1.7390 - val_categorical_accuracy: 0.4516\n",
      "\n",
      "Epoch 00012: val_categorical_accuracy did not improve from 0.52656\n",
      "Epoch 13/25\n",
      "\n",
      "Epoch 00013: LearningRateScheduler setting learning rate to 0.0002695283474135303.\n",
      "5760/5760 [==============================] - 10s 2ms/step - loss: 0.8069 - categorical_accuracy: 0.7410 - val_loss: 1.7759 - val_categorical_accuracy: 0.4469\n",
      "\n",
      "Epoch 00013: val_categorical_accuracy did not improve from 0.52656\n",
      "Epoch 14/25\n",
      "\n",
      "Epoch 00014: LearningRateScheduler setting learning rate to 0.0002671333115456397.\n",
      "5760/5760 [==============================] - 11s 2ms/step - loss: 0.7396 - categorical_accuracy: 0.7658 - val_loss: 1.7908 - val_categorical_accuracy: 0.4500\n",
      "\n",
      "Epoch 00014: val_categorical_accuracy did not improve from 0.52656\n",
      "Epoch 15/25\n",
      "\n",
      "Epoch 00015: LearningRateScheduler setting learning rate to 0.0002647595580284314.\n",
      "5760/5760 [==============================] - 12s 2ms/step - loss: 0.7037 - categorical_accuracy: 0.7806 - val_loss: 1.8341 - val_categorical_accuracy: 0.4359\n",
      "\n",
      "Epoch 00015: val_categorical_accuracy did not improve from 0.52656\n",
      "Epoch 16/25\n",
      "\n",
      "Epoch 00016: LearningRateScheduler setting learning rate to 0.00026240689774638675.\n",
      "5760/5760 [==============================] - 10s 2ms/step - loss: 0.6554 - categorical_accuracy: 0.7990 - val_loss: 1.8798 - val_categorical_accuracy: 0.4500\n",
      "\n",
      "Epoch 00016: val_categorical_accuracy did not improve from 0.52656\n",
      "Epoch 17/25\n",
      "\n",
      "Epoch 00017: LearningRateScheduler setting learning rate to 0.00026007514326447225.\n",
      "5760/5760 [==============================] - 10s 2ms/step - loss: 0.5992 - categorical_accuracy: 0.8188 - val_loss: 1.9579 - val_categorical_accuracy: 0.4359\n",
      "\n",
      "Epoch 00017: val_categorical_accuracy did not improve from 0.52656\n",
      "Epoch 00017: early stopping\n",
      "models num: 9\n",
      "Train on 5760 samples, validate on 640 samples\n",
      "Epoch 1/25\n",
      "\n",
      "Epoch 00001: LearningRateScheduler setting learning rate to 0.0003.\n",
      "5760/5760 [==============================] - 20s 3ms/step - loss: 2.2816 - categorical_accuracy: 0.1566 - val_loss: 2.2453 - val_categorical_accuracy: 0.1672\n",
      "\n",
      "Epoch 00001: val_categorical_accuracy did not improve from 0.52656\n",
      "Epoch 2/25\n",
      "\n",
      "Epoch 00002: LearningRateScheduler setting learning rate to 0.0002973341922389158.\n",
      "5760/5760 [==============================] - 10s 2ms/step - loss: 2.2137 - categorical_accuracy: 0.1837 - val_loss: 2.1511 - val_categorical_accuracy: 0.2391\n",
      "\n",
      "Epoch 00002: val_categorical_accuracy did not improve from 0.52656\n",
      "Epoch 3/25\n",
      "\n",
      "Epoch 00003: LearningRateScheduler setting learning rate to 0.0002946920729145618.\n",
      "5760/5760 [==============================] - 10s 2ms/step - loss: 2.0177 - categorical_accuracy: 0.3333 - val_loss: 1.8885 - val_categorical_accuracy: 0.3672\n",
      "\n",
      "Epoch 00003: val_categorical_accuracy did not improve from 0.52656\n",
      "Epoch 4/25\n",
      "\n",
      "Epoch 00004: LearningRateScheduler setting learning rate to 0.0002920734315308764.\n",
      "5760/5760 [==============================] - 10s 2ms/step - loss: 1.7722 - categorical_accuracy: 0.3915 - val_loss: 1.7434 - val_categorical_accuracy: 0.3891\n",
      "\n",
      "Epoch 00004: val_categorical_accuracy did not improve from 0.52656\n",
      "Epoch 5/25\n",
      "\n",
      "Epoch 00005: LearningRateScheduler setting learning rate to 0.00028947805946227145.\n",
      "5760/5760 [==============================] - 10s 2ms/step - loss: 1.6081 - categorical_accuracy: 0.4361 - val_loss: 1.6780 - val_categorical_accuracy: 0.4125\n",
      "\n",
      "Epoch 00005: val_categorical_accuracy did not improve from 0.52656\n",
      "Epoch 6/25\n",
      "\n",
      "Epoch 00006: LearningRateScheduler setting learning rate to 0.0002869057499370111.\n",
      "5760/5760 [==============================] - 10s 2ms/step - loss: 1.4787 - categorical_accuracy: 0.4755 - val_loss: 1.6422 - val_categorical_accuracy: 0.4219\n",
      "\n",
      "Epoch 00006: val_categorical_accuracy did not improve from 0.52656\n",
      "Epoch 7/25\n",
      "\n",
      "Epoch 00007: LearningRateScheduler setting learning rate to 0.00028435629802073855.\n",
      "5760/5760 [==============================] - 10s 2ms/step - loss: 1.3632 - categorical_accuracy: 0.5266 - val_loss: 1.6068 - val_categorical_accuracy: 0.4437\n",
      "\n",
      "Epoch 00007: val_categorical_accuracy did not improve from 0.52656\n",
      "Epoch 8/25\n",
      "\n",
      "Epoch 00008: LearningRateScheduler setting learning rate to 0.00028182950060014905.\n",
      "5760/5760 [==============================] - 10s 2ms/step - loss: 1.2572 - categorical_accuracy: 0.5686 - val_loss: 1.6100 - val_categorical_accuracy: 0.4516\n",
      "\n",
      "Epoch 00008: val_categorical_accuracy did not improve from 0.52656\n",
      "Epoch 9/25\n",
      "\n",
      "Epoch 00009: LearningRateScheduler setting learning rate to 0.0002793251563668079.\n",
      "5760/5760 [==============================] - 10s 2ms/step - loss: 1.1520 - categorical_accuracy: 0.6016 - val_loss: 1.6498 - val_categorical_accuracy: 0.4453\n",
      "\n",
      "Epoch 00009: val_categorical_accuracy did not improve from 0.52656\n",
      "Epoch 10/25\n",
      "\n",
      "Epoch 00010: LearningRateScheduler setting learning rate to 0.00027684306580111226.\n",
      "5760/5760 [==============================] - 10s 2ms/step - loss: 1.0689 - categorical_accuracy: 0.6351 - val_loss: 1.6909 - val_categorical_accuracy: 0.4422\n",
      "\n",
      "Epoch 00010: val_categorical_accuracy did not improve from 0.52656\n",
      "Epoch 11/25\n",
      "\n",
      "Epoch 00011: LearningRateScheduler setting learning rate to 0.0002743830311563958.\n"
     ]
    },
    {
     "name": "stdout",
     "output_type": "stream",
     "text": [
      "5760/5760 [==============================] - 10s 2ms/step - loss: 0.9830 - categorical_accuracy: 0.6627 - val_loss: 1.6899 - val_categorical_accuracy: 0.4578\n",
      "\n",
      "Epoch 00011: val_categorical_accuracy did not improve from 0.52656\n",
      "Epoch 12/25\n",
      "\n",
      "Epoch 00012: LearningRateScheduler setting learning rate to 0.00027194485644317407.\n",
      "5760/5760 [==============================] - 10s 2ms/step - loss: 0.8967 - categorical_accuracy: 0.7069 - val_loss: 1.7682 - val_categorical_accuracy: 0.4453\n",
      "\n",
      "Epoch 00012: val_categorical_accuracy did not improve from 0.52656\n",
      "Epoch 13/25\n",
      "\n",
      "Epoch 00013: LearningRateScheduler setting learning rate to 0.0002695283474135303.\n",
      "5760/5760 [==============================] - 10s 2ms/step - loss: 0.8310 - categorical_accuracy: 0.7314 - val_loss: 1.7820 - val_categorical_accuracy: 0.4547\n",
      "\n",
      "Epoch 00013: val_categorical_accuracy did not improve from 0.52656\n",
      "Epoch 14/25\n",
      "\n",
      "Epoch 00014: LearningRateScheduler setting learning rate to 0.0002671333115456397.\n",
      "5760/5760 [==============================] - 10s 2ms/step - loss: 0.7573 - categorical_accuracy: 0.7655 - val_loss: 1.8242 - val_categorical_accuracy: 0.4609\n",
      "\n",
      "Epoch 00014: val_categorical_accuracy did not improve from 0.52656\n",
      "Epoch 15/25\n",
      "\n",
      "Epoch 00015: LearningRateScheduler setting learning rate to 0.0002647595580284314.\n",
      "5760/5760 [==============================] - 10s 2ms/step - loss: 0.7254 - categorical_accuracy: 0.7753 - val_loss: 1.8297 - val_categorical_accuracy: 0.4641\n",
      "\n",
      "Epoch 00015: val_categorical_accuracy did not improve from 0.52656\n",
      "Epoch 16/25\n",
      "\n",
      "Epoch 00016: LearningRateScheduler setting learning rate to 0.00026240689774638675.\n",
      "5760/5760 [==============================] - 10s 2ms/step - loss: 0.6608 - categorical_accuracy: 0.7951 - val_loss: 1.9046 - val_categorical_accuracy: 0.4594\n",
      "\n",
      "Epoch 00016: val_categorical_accuracy did not improve from 0.52656\n",
      "Epoch 17/25\n",
      "\n",
      "Epoch 00017: LearningRateScheduler setting learning rate to 0.00026007514326447225.\n",
      "5760/5760 [==============================] - 10s 2ms/step - loss: 0.6174 - categorical_accuracy: 0.8146 - val_loss: 1.9637 - val_categorical_accuracy: 0.4484\n",
      "\n",
      "Epoch 00017: val_categorical_accuracy did not improve from 0.52656\n",
      "Epoch 00017: early stopping\n",
      "models num: 10\n"
     ]
    }
   ],
   "source": [
    "i = 0\n",
    "for train_index , val_index in kf.split(raw_texts):\n",
    "    #print(len(texts))\n",
    "    #print(len(labels))\n",
    "    #print(train_index)\n",
    "    texts =[raw_texts[j] for j in train_index]\n",
    "    labels =  [raw_labels[j] for j in train_index]\n",
    "    #print(val_index)\n",
    "    \n",
    "    texts_val, labels_val = [raw_texts[j] for j in val_index], [raw_labels[j] for j in val_index]\n",
    "    encoder = LabelEncoder()\n",
    "    encoder.fit(labels)\n",
    "    encoder_target = encoder.transform(labels)\n",
    "    dummy_target = krs.utils.np_utils.to_categorical(encoder_target) \n",
    "    encoder_target_val = encoder.transform(labels_val)\n",
    "    dummy_target_val = krs.utils.np_utils.to_categorical(encoder_target_val)\n",
    "    # 文本分词：\n",
    "    texts = [\".\".join(t.split(' ')) for t in texts]\n",
    "    texts_val = [\".\".join(t.split(' ')) for t in texts_val]\n",
    "    text_processed = np.array(list(vocab_processor.fit_transform(texts)))\n",
    "    text_processed_val = np.array(list(vocab_processor.fit_transform(texts_val)))\n",
    "    lr_schedule = LearningRateExponentialDecay(0.0003, EPOCH, 0.80)\n",
    "    lr = krs.callbacks.LearningRateScheduler(lr_schedule, verbose=1)\n",
    "    history = models[i].fit(x=text_processed, y=dummy_target, batch_size=BATCH_SIZE,\n",
    "                    epochs=EPOCH, validation_data=(text_processed_val, dummy_target_val),\n",
    "                    callbacks=[ckpt, earlystop, lr], verbose=1)\n",
    "    i = i+1\n",
    "    print(\"models num:\", i)"
   ]
  },
  {
   "cell_type": "code",
   "execution_count": 553,
   "metadata": {
    "ExecuteTime": {
     "end_time": "2021-01-04T11:58:25.503550Z",
     "start_time": "2021-01-04T11:58:25.500926Z"
    }
   },
   "outputs": [],
   "source": [
    "def softmax_to_onehot(result):\n",
    "    result = np.argmax(result, axis=1)\n",
    "    one_hot = np.zeros((len(result),10))\n",
    "    one_hot[np.arange(len(result)),result] =1\n",
    "    return one_hot"
   ]
  },
  {
   "cell_type": "code",
   "execution_count": 554,
   "metadata": {
    "ExecuteTime": {
     "end_time": "2021-01-04T11:58:34.775628Z",
     "start_time": "2021-01-04T11:58:26.539680Z"
    }
   },
   "outputs": [],
   "source": [
    "y = softmax_to_onehot(models[0].predict(text_processed_test))\n",
    "for i in range(1,10):\n",
    "    y = y+ softmax_to_onehot(models[i].predict(text_processed_test))\n"
   ]
  },
  {
   "cell_type": "code",
   "execution_count": null,
   "metadata": {},
   "outputs": [],
   "source": [
    "# 此处y仅为BiLSTM模型的predict"
   ]
  },
  {
   "cell_type": "code",
   "execution_count": 555,
   "metadata": {
    "ExecuteTime": {
     "end_time": "2021-01-04T11:58:39.255695Z",
     "start_time": "2021-01-04T11:58:39.252277Z"
    }
   },
   "outputs": [
    {
     "name": "stdout",
     "output_type": "stream",
     "text": [
      "[3, 4, 4, 9, 6, 8, 0, 2, 9, 4, 0, 7, 9, 7, 7, 9, 1, 2, 9, 2, 8, 8, 2, 9, 3, 9, 7, 9, 9, 2, 3, 5, 9, 0, 9, 0, 2, 4, 5, 6, 8, 2, 8, 6, 3, 6, 2, 9, 5, 4, 6, 1, 6, 0, 9, 7, 0, 9, 2, 9, 5, 7, 0, 5, 1, 9, 8, 9, 0, 7, 1, 6, 0, 3, 2, 9, 1, 9, 6, 6, 6, 9, 1, 2, 2, 9, 4, 7, 9, 6, 2, 9, 4, 1, 9, 0, 9, 1, 8, 0]\n"
     ]
    }
   ],
   "source": [
    "y_test = np.argmax(y,axis=1)\n",
    "#y_test[1:100]\n",
    "y_test = list(y_test)\n",
    "print(y_test[0:100])"
   ]
  },
  {
   "cell_type": "markdown",
   "metadata": {
    "ExecuteTime": {
     "end_time": "2021-01-04T12:51:00.512472Z",
     "start_time": "2021-01-04T12:51:00.508843Z"
    }
   },
   "source": [
    "# TF-IDF 模型"
   ]
  },
  {
   "cell_type": "code",
   "execution_count": 457,
   "metadata": {
    "ExecuteTime": {
     "end_time": "2021-01-04T11:05:44.576924Z",
     "start_time": "2021-01-04T11:05:44.571638Z"
    }
   },
   "outputs": [],
   "source": [
    "def read_data(path):\n",
    "    label_list, text_list = [], []\n",
    "    k = 0\n",
    "    with open(path, 'r', encoding='utf-8') as f:\n",
    "        for line in f :\n",
    "            k += 1\n",
    "            text = line.strip().split('\\t')\n",
    "            label_list.append(labels_dict[text[2]]) #返回label的值\n",
    "            #print(k)\n",
    "            #print(line)\n",
    "            text_list.append(text[3])\n",
    "    return text_list, label_list\n",
    "\n",
    "def read_test_data(path):\n",
    "    text_list = []\n",
    "    k = 0\n",
    "    with open(path, 'r', encoding= 'utf-8') as f:\n",
    "        for line in f :\n",
    "            text =line.strip().split('\\n')\n",
    "            text = text[0]\n",
    "            text_list.append(text)\n",
    "    return text_list"
   ]
  },
  {
   "cell_type": "code",
   "execution_count": 527,
   "metadata": {
    "ExecuteTime": {
     "end_time": "2021-01-04T11:53:55.133573Z",
     "start_time": "2021-01-04T11:53:55.008913Z"
    }
   },
   "outputs": [
    {
     "name": "stdout",
     "output_type": "stream",
     "text": [
      "word_dict shape: 16383\n"
     ]
    }
   ],
   "source": [
    "x_train, y_train = read_data(train_process_path)\n",
    "x_test = read_test_data(test_process_path)\n",
    "\n",
    "tfidf_model = TfidfVectorizer(stop_words='english').fit(x_train)\n",
    "print(f'word_dict shape: {len(tfidf_model.vocabulary_)}')"
   ]
  },
  {
   "cell_type": "code",
   "execution_count": 528,
   "metadata": {
    "ExecuteTime": {
     "end_time": "2021-01-04T11:53:57.863025Z",
     "start_time": "2021-01-04T11:53:56.070503Z"
    }
   },
   "outputs": [
    {
     "data": {
      "text/plain": [
       "LogisticRegression()"
      ]
     },
     "execution_count": 528,
     "metadata": {},
     "output_type": "execute_result"
    }
   ],
   "source": [
    "x_train_vec = tfidf_model.transform(x_train) # 节省空间，csr格式系数矩阵\n",
    "x_test_vec = tfidf_model.transform(x_test)\n",
    "\n",
    "clf = LogisticRegression(solver='lbfgs')  # 求解器使用lbfgs，其他使用默认超参数\n",
    "clf.fit(x_train_vec,y_train)"
   ]
  },
  {
   "cell_type": "code",
   "execution_count": 519,
   "metadata": {
    "ExecuteTime": {
     "end_time": "2021-01-04T11:53:04.433226Z",
     "start_time": "2021-01-04T11:53:04.426258Z"
    }
   },
   "outputs": [
    {
     "data": {
      "text/plain": [
       "1600"
      ]
     },
     "execution_count": 519,
     "metadata": {},
     "output_type": "execute_result"
    }
   ],
   "source": [
    "y_test_2 = clf.predict(x_test_vec)\n",
    "len(y_test_2)"
   ]
  },
  {
   "cell_type": "markdown",
   "metadata": {},
   "source": [
    "## 模型融合时令其权重为2.5:10 "
   ]
  },
  {
   "cell_type": "code",
   "execution_count": 558,
   "metadata": {
    "ExecuteTime": {
     "end_time": "2021-01-04T12:23:15.093288Z",
     "start_time": "2021-01-04T12:23:15.069219Z"
    }
   },
   "outputs": [],
   "source": [
    "def labels_to_onehot(result):\n",
    "    result = np.array(result, dtype = int)\n",
    "    one_hot = np.zeros((len(result),10))\n",
    "    one_hot[np.arange(len(result)), result] = 2.5\n",
    "    return one_hot"
   ]
  },
  {
   "cell_type": "code",
   "execution_count": 559,
   "metadata": {
    "ExecuteTime": {
     "end_time": "2021-01-04T12:23:15.750302Z",
     "start_time": "2021-01-04T12:23:15.720746Z"
    }
   },
   "outputs": [
    {
     "data": {
      "text/plain": [
       "array([[0. , 0. , 0. , 0. , 0. , 0. , 0. , 0. , 0. , 2.5],\n",
       "       [0. , 0. , 2.5, 0. , 0. , 0. , 0. , 0. , 0. , 0. ],\n",
       "       [0. , 0. , 0. , 0. , 0. , 0. , 0. , 0. , 0. , 2.5],\n",
       "       [0. , 0. , 0. , 0. , 0. , 0. , 2.5, 0. , 0. , 0. ],\n",
       "       [0. , 0. , 0. , 0. , 0. , 0. , 0. , 0. , 0. , 2.5],\n",
       "       [2.5, 0. , 0. , 0. , 0. , 0. , 0. , 0. , 0. , 0. ],\n",
       "       [0. , 0. , 0. , 0. , 0. , 0. , 0. , 0. , 0. , 2.5],\n",
       "       [0. , 0. , 0. , 0. , 0. , 0. , 0. , 0. , 0. , 2.5],\n",
       "       [0. , 0. , 0. , 0. , 0. , 0. , 0. , 0. , 0. , 2.5]])"
      ]
     },
     "execution_count": 559,
     "metadata": {},
     "output_type": "execute_result"
    }
   ],
   "source": [
    "labels_to_onehot(y_test_2)[1:10]"
   ]
  },
  {
   "cell_type": "code",
   "execution_count": 560,
   "metadata": {
    "ExecuteTime": {
     "end_time": "2021-01-04T12:23:16.653671Z",
     "start_time": "2021-01-04T12:23:16.650510Z"
    }
   },
   "outputs": [],
   "source": [
    "y = y+ labels_to_onehot(y_test_2)"
   ]
  },
  {
   "cell_type": "code",
   "execution_count": 561,
   "metadata": {
    "ExecuteTime": {
     "end_time": "2021-01-04T12:23:17.463910Z",
     "start_time": "2021-01-04T12:23:17.458459Z"
    }
   },
   "outputs": [
    {
     "name": "stdout",
     "output_type": "stream",
     "text": [
      "[3, 4, 4, 9, 6, 8, 0, 2, 9, 4, 0, 7, 9, 7, 7, 8, 1, 2, 9, 9, 8, 8, 2, 9, 3, 9, 7, 9, 9, 2, 3, 5, 9, 0, 9, 0, 6, 4, 5, 6, 9, 2, 8, 9, 3, 6, 2, 9, 5, 4, 6, 2, 6, 0, 9, 7, 0, 9, 2, 9, 5, 7, 0, 5, 1, 9, 9, 9, 0, 7, 1, 6, 0, 3, 2, 9, 1, 9, 6, 6, 6, 9, 1, 2, 2, 6, 4, 7, 9, 9, 2, 9, 4, 1, 9, 0, 9, 1, 8, 0]\n"
     ]
    }
   ],
   "source": [
    "y_test = np.argmax(y,axis=1)\n",
    "#y_test[1:100]\n",
    "y_test = list(y_test)\n",
    "print(y_test[0:100])"
   ]
  },
  {
   "cell_type": "markdown",
   "metadata": {},
   "source": [
    "## 预测结果"
   ]
  },
  {
   "cell_type": "code",
   "execution_count": 562,
   "metadata": {
    "ExecuteTime": {
     "end_time": "2021-01-04T12:23:19.514697Z",
     "start_time": "2021-01-04T12:23:19.274716Z"
    }
   },
   "outputs": [
    {
     "data": {
      "image/png": "[encoded data removed]",
      "text/plain": [
       "<Figure size 432x288 with 1 Axes>"
      ]
     },
     "metadata": {
      "needs_background": "light"
     },
     "output_type": "display_data"
    }
   ],
   "source": [
    "labels_id = ['0', '1', '2', '3', '4', '5', '6', '7', '8', '9']\n",
    "x = [i for i in range(len(labels_id))]\n",
    "count_in_train = [y_test.count(label) / len(y_test) for label in range(10)]  # 统计训练集占比\n",
    "plt.figure()\n",
    "plt.bar(x, count_in_train, width=0.5, label=\"test_set\")\n",
    "plt.legend()\n",
    "plt.show()"
   ]
  },
  {
   "cell_type": "markdown",
   "metadata": {},
   "source": [
    "## 保存结果"
   ]
  },
  {
   "cell_type": "code",
   "execution_count": 557,
   "metadata": {
    "ExecuteTime": {
     "end_time": "2021-01-04T11:58:50.566614Z",
     "start_time": "2021-01-04T11:58:50.559788Z"
    }
   },
   "outputs": [],
   "source": [
    "with open('./result/results.txt','w', encoding='utf-8') as f:\n",
    "    for i in range(len(y_test)):\n",
    "        line = LABEL_INDEX[int(y_test[i])]\n",
    "        f.write(str(line) + '\\n')"
   ]
  },
  {
   "cell_type": "code",
   "execution_count": null,
   "metadata": {},
   "outputs": [],
   "source": []
  },
  {
   "cell_type": "code",
   "execution_count": 346,
   "metadata": {
    "ExecuteTime": {
     "end_time": "2021-01-04T08:40:08.140178Z",
     "start_time": "2021-01-04T08:40:08.137154Z"
    }
   },
   "outputs": [
    {
     "data": {
      "text/plain": [
       "list"
      ]
     },
     "execution_count": 346,
     "metadata": {},
     "output_type": "execute_result"
    }
   ],
   "source": [
    "type(labels)"
   ]
  },
  {
   "cell_type": "code",
   "execution_count": 347,
   "metadata": {
    "ExecuteTime": {
     "end_time": "2021-01-04T08:40:10.957000Z",
     "start_time": "2021-01-04T08:40:10.336649Z"
    }
   },
   "outputs": [
    {
     "data": {
      "image/png": "[encoded data removed]",
      "text/plain": [
       "<Figure size 432x288 with 1 Axes>"
      ]
     },
     "metadata": {
      "needs_background": "light"
     },
     "output_type": "display_data"
    }
   ],
   "source": [
    "labels_id = ['0', '1', '2', '3', '4', '5', '6', '7', '8', '9']\n",
    "x = [i for i in range(len(labels_id))]\n",
    "count_in_train = [labels.count(label) / len(labels) for label in labels_id]  # 统计训练集占比\n",
    "plt.figure()\n",
    "plt.bar(x, count_in_train, width=0.5, label=\"train_set\")\n",
    "plt.legend()\n",
    "plt.show()"
   ]
  },
  {
   "cell_type": "code",
   "execution_count": 509,
   "metadata": {
    "ExecuteTime": {
     "end_time": "2021-01-04T11:18:03.352216Z",
     "start_time": "2021-01-04T11:18:03.343207Z"
    }
   },
   "outputs": [],
   "source": [
    "with open('./result/results.txt','w', encoding='utf-8') as f:\n",
    "    for i in range(len(y_test)):\n",
    "        line = LABEL_INDEX[int(y_test[i])]\n",
    "        f.write(str(line) + '\\n')"
   ]
  },
  {
   "cell_type": "markdown",
   "metadata": {},
   "source": [
    "# lable on val"
   ]
  },
  {
   "cell_type": "code",
   "execution_count": 137,
   "metadata": {
    "ExecuteTime": {
     "end_time": "2021-01-01T05:29:39.955005Z",
     "start_time": "2021-01-01T05:29:39.816063Z"
    }
   },
   "outputs": [
    {
     "data": {
      "image/png": "[encoded data removed]",
      "text/plain": [
       "<Figure size 432x288 with 1 Axes>"
      ]
     },
     "metadata": {
      "needs_background": "light"
     },
     "output_type": "display_data"
    }
   ],
   "source": [
    "labels_id = ['0', '1', '2', '3', '4', '5', '6', '7', '8', '9']\n",
    "x = [i for i in range(len(labels_id))]\n",
    "count_in_train = [labels_val.count(label) / len(labels_val) for label in labels_id]  # 统计训练集占比\n",
    "plt.figure()\n",
    "plt.bar(x, count_in_train, width=0.5, label=\"val_set\")\n",
    "plt.legend()\n",
    "plt.show()"
   ]
  },
  {
   "cell_type": "code",
   "execution_count": 357,
   "metadata": {
    "ExecuteTime": {
     "end_time": "2021-01-04T08:41:08.205167Z",
     "start_time": "2021-01-04T08:41:08.192163Z"
    }
   },
   "outputs": [],
   "source": [
    "encoder = LabelEncoder()\n",
    "encoder.fit(labels)\n",
    "encoder_target = encoder.transform(labels)\n",
    "\n",
    "dummy_target = krs.utils.np_utils.to_categorical(encoder_target) \n",
    "# each one in dummy_target is a one-hot vector:,eg.  [0., 1., 0., 0., 0., 0., 0., 0., 0., 0.]"
   ]
  },
  {
   "cell_type": "code",
   "execution_count": 358,
   "metadata": {
    "ExecuteTime": {
     "end_time": "2021-01-04T08:41:10.626714Z",
     "start_time": "2021-01-04T08:41:10.621329Z"
    }
   },
   "outputs": [
    {
     "name": "stdout",
     "output_type": "stream",
     "text": [
      "[6 9 1 9 7 9 0 5 3 5]\n",
      "[[0. 0. 0. 0. 0. 0. 1. 0. 0. 0.]\n",
      " [0. 0. 0. 0. 0. 0. 0. 0. 0. 1.]\n",
      " [0. 1. 0. 0. 0. 0. 0. 0. 0. 0.]\n",
      " [0. 0. 0. 0. 0. 0. 0. 0. 0. 1.]\n",
      " [0. 0. 0. 0. 0. 0. 0. 1. 0. 0.]\n",
      " [0. 0. 0. 0. 0. 0. 0. 0. 0. 1.]\n",
      " [1. 0. 0. 0. 0. 0. 0. 0. 0. 0.]\n",
      " [0. 0. 0. 0. 0. 1. 0. 0. 0. 0.]\n",
      " [0. 0. 0. 1. 0. 0. 0. 0. 0. 0.]\n",
      " [0. 0. 0. 0. 0. 1. 0. 0. 0. 0.]]\n"
     ]
    }
   ],
   "source": [
    "print(encoder_target[:10])\n",
    "print(dummy_target[:10])"
   ]
  },
  {
   "cell_type": "code",
   "execution_count": 140,
   "metadata": {
    "ExecuteTime": {
     "end_time": "2021-01-01T05:29:42.923063Z",
     "start_time": "2021-01-01T05:29:42.919207Z"
    }
   },
   "outputs": [],
   "source": [
    "encoder_target_val = encoder.transform(labels_val)\n",
    "dummy_target_val = krs.utils.np_utils.to_categorical(encoder_target_val)"
   ]
  },
  {
   "cell_type": "code",
   "execution_count": 141,
   "metadata": {
    "ExecuteTime": {
     "end_time": "2021-01-01T05:29:43.803354Z",
     "start_time": "2021-01-01T05:29:43.792059Z"
    }
   },
   "outputs": [],
   "source": [
    "# 文本分词：\n",
    "texts = [\".\".join(t.split(' ')) for t in texts]\n",
    "texts_val = [\".\".join(t.split(' ')) for t in texts_val]\n",
    "# 去掉空格，每个词用逗号隔开，如: \n",
    "#'The.child.was.carefully.wrapped.and.bound.into.the.cradle.by.means.of.a.cord'"
   ]
  },
  {
   "cell_type": "code",
   "execution_count": 304,
   "metadata": {
    "ExecuteTime": {
     "end_time": "2021-01-01T06:20:10.781854Z",
     "start_time": "2021-01-01T06:20:10.778789Z"
    }
   },
   "outputs": [
    {
     "data": {
      "text/plain": [
       "'the.body.of.her.nephew.was.in.a.suitcase.under.the.bed'"
      ]
     },
     "execution_count": 304,
     "metadata": {},
     "output_type": "execute_result"
    }
   ],
   "source": [
    "texts_test[0]"
   ]
  },
  {
   "cell_type": "code",
   "execution_count": 305,
   "metadata": {
    "ExecuteTime": {
     "end_time": "2021-01-01T06:20:11.239081Z",
     "start_time": "2021-01-01T06:20:11.235698Z"
    }
   },
   "outputs": [
    {
     "data": {
      "text/plain": [
       "'\\nlen_result = []\\nfor i in range(len(texts_test)):\\n    len_result.append(len(texts_test[i].split()))\\nmax(len_result)\\n'"
      ]
     },
     "execution_count": 305,
     "metadata": {},
     "output_type": "execute_result"
    }
   ],
   "source": [
    "'''\n",
    "len_result = []\n",
    "for i in range(len(texts_test)):\n",
    "    len_result.append(len(texts_test[i].split()))\n",
    "max(len_result)\n",
    "'''"
   ]
  },
  {
   "cell_type": "code",
   "execution_count": 306,
   "metadata": {
    "ExecuteTime": {
     "end_time": "2021-01-01T06:20:12.036042Z",
     "start_time": "2021-01-01T06:20:11.726080Z"
    }
   },
   "outputs": [
    {
     "name": "stdout",
     "output_type": "stream",
     "text": [
      "<class 'numpy.ndarray'> (600, 83)\n"
     ]
    }
   ],
   "source": [
    "# word2vec 词袋化\n",
    "vocab_processor = tf.contrib.learn.preprocessing.VocabularyProcessor(max_sequence_length,min_frequency=0)\n",
    "\n",
    "\n",
    "#\n",
    "text_processed_test = np.array(list(vocab_processor.fit_transform(texts_test)))\n",
    "\n",
    "text_processed = np.array(list(vocab_processor.fit_transform(texts)))\n",
    "text_processed_val = np.array(list(vocab_processor.fit_transform(texts_val)))\n",
    "\n",
    "text_processed_test = np.array(list(vocab_processor.fit_transform(texts_test))) # 先编码测试集！\n",
    "\n",
    "print(type(text_processed_val),text_processed_val.shape)"
   ]
  },
  {
   "cell_type": "code",
   "execution_count": 307,
   "metadata": {
    "ExecuteTime": {
     "end_time": "2021-01-01T06:20:12.262489Z",
     "start_time": "2021-01-01T06:20:12.237492Z"
    }
   },
   "outputs": [
    {
     "data": {
      "text/plain": [
       "{'<UNK>': 0,\n",
       " 'the': 1,\n",
       " 'body': 2,\n",
       " 'of': 3,\n",
       " 'her': 4,\n",
       " 'nephew': 5,\n",
       " 'was': 6,\n",
       " 'in': 7,\n",
       " 'a': 8,\n",
       " 'suitcase': 9,\n",
       " 'under': 10,\n",
       " 'bed': 11,\n",
       " 'drama': 12,\n",
       " 'unfolded': 13,\n",
       " 'shortly': 14,\n",
       " 'after': 15,\n",
       " '7pm': 16,\n",
       " 'last': 17,\n",
       " 'tuesday': 18,\n",
       " 'december': 19,\n",
       " '22': 20,\n",
       " 'when': 21,\n",
       " 'glyn': 22,\n",
       " 'saw': 23,\n",
       " 'that': 24,\n",
       " 'smoke': 25,\n",
       " 'coming': 26,\n",
       " 'from': 27,\n",
       " 'bonfire': 28,\n",
       " 'prior': 29,\n",
       " 'to': 30,\n",
       " '4004': 31,\n",
       " 'engineers': 32,\n",
       " 'built': 33,\n",
       " 'computers': 34,\n",
       " 'either': 35,\n",
       " 'collections': 36,\n",
       " 'chips': 37,\n",
       " 'or': 38,\n",
       " 'discrete': 39,\n",
       " 'components': 40,\n",
       " 'effective': 41,\n",
       " 'utilization': 42,\n",
       " 'cluster': 43,\n",
       " 'workstations': 44,\n",
       " 'for': 45,\n",
       " 'implementation': 46,\n",
       " 'scientific': 47,\n",
       " 'application': 48,\n",
       " 'requires': 49,\n",
       " 'highly': 50,\n",
       " 'flexible': 51,\n",
       " 'software': 52,\n",
       " 'environment': 53,\n",
       " 'player': 54,\n",
       " 'manipulates': 55,\n",
       " 'keyboard': 56,\n",
       " 'mouse': 57,\n",
       " 'joystick': 58,\n",
       " 'as': 59,\n",
       " 'game': 60,\n",
       " 'scene': 61,\n",
       " 'is': 62,\n",
       " 'displayed': 63,\n",
       " 'on': 64,\n",
       " 'video': 65,\n",
       " 'monitor': 66,\n",
       " 'like': 67,\n",
       " 'tarps': 68,\n",
       " 'plus': 69,\n",
       " 'has': 70,\n",
       " 'best': 71,\n",
       " 'painters': 72,\n",
       " 'market': 73,\n",
       " 'nasal': 74,\n",
       " 'dryness': 75,\n",
       " 'causes': 76,\n",
       " 'nosebleeds': 77,\n",
       " 'coughing': 78,\n",
       " 'wheezing': 79,\n",
       " 'and': 80,\n",
       " 'other': 81,\n",
       " 'short-term': 82,\n",
       " 'respiratory': 83,\n",
       " 'problems': 84,\n",
       " 'building': 85,\n",
       " 'surrounded': 86,\n",
       " 'by': 87,\n",
       " 'police': 88,\n",
       " 'who': 89,\n",
       " 'arrested': 90,\n",
       " 'three': 91,\n",
       " 'people': 92,\n",
       " 'they': 93,\n",
       " 'tried': 94,\n",
       " 'gain': 95,\n",
       " 'access': 96,\n",
       " 'this': 97,\n",
       " 'beautiful': 98,\n",
       " 're-imagining': 99,\n",
       " 'story': 100,\n",
       " 'starts': 101,\n",
       " 'an': 102,\n",
       " 'orphanage': 103,\n",
       " 'moves': 104,\n",
       " 'magical': 105,\n",
       " 'land': 106,\n",
       " 'where': 107,\n",
       " 'sweets': 108,\n",
       " 'have': 109,\n",
       " 'sexual': 110,\n",
       " 'subtext': 111,\n",
       " 'parker': 112,\n",
       " 'dunlap': 113,\n",
       " 'startled': 114,\n",
       " 'genie': 115,\n",
       " 'popped': 116,\n",
       " 'out': 117,\n",
       " 'old': 118,\n",
       " 'beat-up': 119,\n",
       " 'lamp': 120,\n",
       " 'colds': 121,\n",
       " 'flu': 122,\n",
       " 'cause': 123,\n",
       " 'inflammation': 124,\n",
       " 'mucous': 125,\n",
       " 'membranes': 126,\n",
       " 'nose': 127,\n",
       " 'throat': 128,\n",
       " 'mouth': 129,\n",
       " '1646': 130,\n",
       " 'however': 131,\n",
       " 'puritan': 132,\n",
       " 'emphasis': 133,\n",
       " 'upon': 134,\n",
       " 'individualism': 135,\n",
       " 'individual': 136,\n",
       " 'conscience': 137,\n",
       " 'made': 138,\n",
       " 'it': 139,\n",
       " 'impossible': 140,\n",
       " 'movement': 141,\n",
       " 'form': 142,\n",
       " 'national': 143,\n",
       " 'presbyterian': 144,\n",
       " 'church': 145,\n",
       " '1662': 146,\n",
       " 'anglican': 147,\n",
       " 're-established': 148,\n",
       " 'puritanism': 149,\n",
       " 'had': 150,\n",
       " 'become': 151,\n",
       " 'loose': 152,\n",
       " 'confederation': 153,\n",
       " 'various': 154,\n",
       " 'dissenting': 155,\n",
       " 'sects': 156,\n",
       " 'internal': 157,\n",
       " 'payoff': 158,\n",
       " 'rooted': 159,\n",
       " 'psychological': 160,\n",
       " 'cost': 161,\n",
       " 'preference': 162,\n",
       " 'falsification': 163,\n",
       " 'officials': 164,\n",
       " 'northern': 165,\n",
       " 'chinese': 166,\n",
       " 'province': 167,\n",
       " 'inner': 168,\n",
       " 'mongolia': 169,\n",
       " 'mobilized': 170,\n",
       " '33': 171,\n",
       " '000': 172,\n",
       " 'stop': 173,\n",
       " 'swarm': 174,\n",
       " 'locusts': 175,\n",
       " '267': 176,\n",
       " 'miles': 177,\n",
       " 'outside': 178,\n",
       " 'beijing': 179,\n",
       " 'mehmet': 180,\n",
       " 'oz': 181,\n",
       " 'cardiovascular': 182,\n",
       " 'surgeon': 183,\n",
       " 'part': 184,\n",
       " 'new': 185,\n",
       " 'generation': 186,\n",
       " 'doctors': 187,\n",
       " 'are': 188,\n",
       " 'taking': 189,\n",
       " 'medicine': 190,\n",
       " 'technological': 191,\n",
       " 'spiritual': 192,\n",
       " 'frontiers': 193,\n",
       " 'government': 194,\n",
       " 'spended': 195,\n",
       " 'following': 196,\n",
       " '18': 197,\n",
       " 'months': 198,\n",
       " 'before': 199,\n",
       " 'elections': 200,\n",
       " 'similar': 201,\n",
       " 'vein': 202,\n",
       " '-': 203,\n",
       " 'shooting': 204,\n",
       " 'whole': 205,\n",
       " 'lead': 206,\n",
       " 'conservative': 207,\n",
       " 'foxes': 208,\n",
       " 'extend': 209,\n",
       " 'metaphor': 210,\n",
       " 'namely': 211,\n",
       " 'heathrow': 212,\n",
       " 'royal': 213,\n",
       " 'mail': 214,\n",
       " 'privatisation': 215,\n",
       " 'quickly': 216,\n",
       " 'but': 217,\n",
       " 'neatly': 218,\n",
       " 'secretary': 219,\n",
       " 'tore': 220,\n",
       " 'side': 221,\n",
       " 'open': 222,\n",
       " 'with': 223,\n",
       " 'letter': 224,\n",
       " 'opener': 225,\n",
       " 'pulling': 226,\n",
       " 'yet': 227,\n",
       " 'another': 228,\n",
       " 'sheet': 229,\n",
       " 'paper': 230,\n",
       " 'first': 231,\n",
       " 'british': 232,\n",
       " 'steam': 233,\n",
       " 'powered': 234,\n",
       " 'vibrator': 235,\n",
       " 'dates': 236,\n",
       " 'back': 237,\n",
       " 'early': 238,\n",
       " '1880s': 239,\n",
       " 'developed': 240,\n",
       " 'american': 241,\n",
       " 'physician': 242,\n",
       " 'i': 243,\n",
       " 'love': 244,\n",
       " 'imperial': 245,\n",
       " 'logo': 246,\n",
       " 'at': 247,\n",
       " 'end': 248,\n",
       " 'tank': 249,\n",
       " 'canons': 250,\n",
       " 'efficiency': 251,\n",
       " 'teachers': 252,\n",
       " 'taken': 253,\n",
       " 'during': 254,\n",
       " 'past': 255,\n",
       " 'seven': 256,\n",
       " 'years': 257,\n",
       " 'no': 258,\n",
       " 'time': 259,\n",
       " 'been': 260,\n",
       " 'better': 261,\n",
       " 'than': 262,\n",
       " 'year': 263,\n",
       " 'international': 264,\n",
       " 'monthly': 265,\n",
       " 'magazine': 266,\n",
       " 'dedicated': 267,\n",
       " 'all': 268,\n",
       " 'forms': 269,\n",
       " 'contemporary': 270,\n",
       " 'sculpture': 271,\n",
       " 'chapter': 272,\n",
       " 'gives': 273,\n",
       " 'introduction': 274,\n",
       " 'brief': 275,\n",
       " 'overview': 276,\n",
       " 'most': 277,\n",
       " 'important': 278,\n",
       " 'optimization': 279,\n",
       " 'techniques': 280,\n",
       " 'defra': 281,\n",
       " 'identified': 282,\n",
       " 'different': 283,\n",
       " 'noises': 284,\n",
       " 'dogs': 285,\n",
       " 'meanings': 286,\n",
       " 'behind': 287,\n",
       " 'them': 288,\n",
       " 'project': 289,\n",
       " 'process': 290,\n",
       " 'comprised': 291,\n",
       " 'field': 292,\n",
       " 'study': 293,\n",
       " 'istanbul': 294,\n",
       " 'inhabitants': 295,\n",
       " '4': 296,\n",
       " 'weeks': 297,\n",
       " 'presentations': 298,\n",
       " '8': 299,\n",
       " 'there': 300,\n",
       " 'actual': 301,\n",
       " 'world': 302,\n",
       " 'records': 303,\n",
       " 'kookiest': 304,\n",
       " 'hat': 305,\n",
       " 'longest': 306,\n",
       " 'message': 307,\n",
       " 'bottle': 308,\n",
       " 'sea': 309,\n",
       " 'tallest': 310,\n",
       " 'scarecrow': 311,\n",
       " 'annulment': 312,\n",
       " 'legal': 313,\n",
       " 'procedure': 314,\n",
       " 'declaring': 315,\n",
       " 'marriage': 316,\n",
       " 'null': 317,\n",
       " 'void': 318,\n",
       " 'also': 319,\n",
       " 'large': 320,\n",
       " 'convocation': 321,\n",
       " 'bald': 322,\n",
       " 'eagles': 323,\n",
       " 'near': 324,\n",
       " 'park': 325,\n",
       " 'entrance': 326,\n",
       " 'provides': 327,\n",
       " 'excellent': 328,\n",
       " 'viewing': 329,\n",
       " 'opportunities': 330,\n",
       " 'summer': 331,\n",
       " 'goalkeeper': 332,\n",
       " 'helped': 333,\n",
       " 'team': 334,\n",
       " 'advance': 335,\n",
       " 'finals': 336,\n",
       " 'w-league': 337,\n",
       " 'tournament': 338,\n",
       " 'pilgrims': 339,\n",
       " 'rejoiced': 340,\n",
       " 'located': 341,\n",
       " 'skein': 342,\n",
       " 'wild': 343,\n",
       " 'fowl': 344,\n",
       " 'their': 345,\n",
       " 'thanksgiving': 346,\n",
       " 'tables': 347,\n",
       " \"daborne's\": 348,\n",
       " 'play': 349,\n",
       " 'about': 350,\n",
       " 'historic': 351,\n",
       " 'person': 352,\n",
       " 'pirate': 353,\n",
       " 'ward': 354,\n",
       " 'famous': 355,\n",
       " 'england': 356,\n",
       " 'its': 357,\n",
       " 'writing': 358,\n",
       " 'stored': 359,\n",
       " 'wine': 360,\n",
       " 'cool': 361,\n",
       " 'temperature': 362,\n",
       " 'company': 363,\n",
       " 'moved': 364,\n",
       " 'into': 365,\n",
       " 'music': 366,\n",
       " 'business': 367,\n",
       " 'maryland': 368,\n",
       " 'department': 369,\n",
       " 'already': 370,\n",
       " 'worked': 371,\n",
       " 'reduce': 372,\n",
       " 'amount': 373,\n",
       " 'pollution': 374,\n",
       " 'sources': 375,\n",
       " 'cars': 376,\n",
       " 'factories': 377,\n",
       " 'soya': 378,\n",
       " 'farming': 379,\n",
       " 'one': 380,\n",
       " 'main': 381,\n",
       " 'tropical': 382,\n",
       " 'deforestation': 383,\n",
       " 'which': 384,\n",
       " 'currently': 385,\n",
       " 'produces': 386,\n",
       " 'fifth': 387,\n",
       " 'global': 388,\n",
       " 'climate': 389,\n",
       " 'change': 390,\n",
       " 'leader': 391,\n",
       " 'his': 392,\n",
       " 'comments': 393,\n",
       " 'he': 394,\n",
       " 'flew': 395,\n",
       " 'cameroon': 396,\n",
       " 'leg': 397,\n",
       " 'six-day': 398,\n",
       " 'trip': 399,\n",
       " 'will': 400,\n",
       " 'see': 401,\n",
       " 'him': 402,\n",
       " 'travelling': 403,\n",
       " 'angola': 404,\n",
       " 'encroaching': 405,\n",
       " 'darkness': 406,\n",
       " 'caused': 407,\n",
       " 'twin': 408,\n",
       " 'horrors': 409,\n",
       " 'war': 410,\n",
       " 'mysterious': 411,\n",
       " 'plague': 412,\n",
       " 'man': 413,\n",
       " 'grew': 414,\n",
       " 'human': 415,\n",
       " 'ear': 416,\n",
       " 'breakthrough': 417,\n",
       " 'brings': 418,\n",
       " 'prospect': 419,\n",
       " 'artificial': 420,\n",
       " 'liver': 421,\n",
       " 'much': 422,\n",
       " 'closer': 423,\n",
       " 'we': 424,\n",
       " 'watched': 425,\n",
       " 'barman': 426,\n",
       " 'poured': 427,\n",
       " 'alcohol': 428,\n",
       " 'bar': 429,\n",
       " 'absinthe': 430,\n",
       " 'couple': 431,\n",
       " 'shot': 432,\n",
       " 'glasses': 433,\n",
       " 'then': 434,\n",
       " 'lit': 435,\n",
       " 'lot': 436,\n",
       " 'playwright': 437,\n",
       " 'uses': 438,\n",
       " 'names': 439,\n",
       " 'device': 440,\n",
       " 'wordplay': 441,\n",
       " 'several': 442,\n",
       " 'points': 443,\n",
       " 'since': 444,\n",
       " 'complex': 445,\n",
       " 'stages': 446,\n",
       " 'discrepancies': 447,\n",
       " 'exist': 448,\n",
       " 'completion': 449,\n",
       " 'due': 450,\n",
       " 'differing': 451,\n",
       " 'opinions': 452,\n",
       " 'mason': 453,\n",
       " 'removed': 454,\n",
       " 'original': 455,\n",
       " 'left': 456,\n",
       " 'right': 457,\n",
       " 'edges': 458,\n",
       " 'place': 459,\n",
       " 'prepared': 460,\n",
       " 'simple': 461,\n",
       " 'moulding': 462,\n",
       " 'each': 463,\n",
       " 'second': 464,\n",
       " 'section': 465,\n",
       " 'authors': 466,\n",
       " 'explore': 467,\n",
       " 'factors': 468,\n",
       " 'ostensibly': 469,\n",
       " 'unrelated': 470,\n",
       " 'race': 471,\n",
       " 'nonetheless': 472,\n",
       " 'contribute': 473,\n",
       " 'racial': 474,\n",
       " 'inequality': 475,\n",
       " 'particular': 476,\n",
       " 'ratpack': 477,\n",
       " 'colonels': 478,\n",
       " 'development': 479,\n",
       " 'worst': 480,\n",
       " 'possible': 481,\n",
       " 'handle': 482,\n",
       " 'relations': 483,\n",
       " 'latin': 484,\n",
       " 'countries': 485,\n",
       " 'playlist': 486,\n",
       " 'enclosed': 487,\n",
       " 'small': 488,\n",
       " 'leather': 489,\n",
       " 'portfolio': 490,\n",
       " 'keep': 491,\n",
       " 'papers': 492,\n",
       " 'andaman': 493,\n",
       " 'islands': 494,\n",
       " 'fish': 495,\n",
       " 'captured': 496,\n",
       " 'convicts': 497,\n",
       " 'means': 498,\n",
       " 'weirs': 499,\n",
       " 'fixed': 500,\n",
       " 'across': 501,\n",
       " 'openings': 502,\n",
       " 'creeks': 503,\n",
       " 'many': 504,\n",
       " 'joined': 505,\n",
       " 'armada': 506,\n",
       " 'sailing': 507,\n",
       " 'ships': 508,\n",
       " 'sailed': 509,\n",
       " 'belfast': 510,\n",
       " 'dublin': 511,\n",
       " 'cork': 512,\n",
       " 'holyhead': 513,\n",
       " 'liverpool': 514,\n",
       " 'glasgow': 515,\n",
       " 'bound': 516,\n",
       " 'information': 517,\n",
       " 'summarises': 518,\n",
       " 'labour': 519,\n",
       " 'uk': 520,\n",
       " 'necklace': 521,\n",
       " 'locked': 522,\n",
       " 'safe': 523,\n",
       " 'room': 524,\n",
       " 'victor': 525,\n",
       " 'hugo': 526,\n",
       " 'hotel': 527,\n",
       " 'term': 528,\n",
       " 'derived': 529,\n",
       " 'root': 530,\n",
       " 'can': 531,\n",
       " 'mean': 532,\n",
       " 'both': 533,\n",
       " \"'to\": 534,\n",
       " 'be': 535,\n",
       " 'animal': 536,\n",
       " 'lowered': 537,\n",
       " 'until': 538,\n",
       " 'pelvic': 539,\n",
       " 'limbs': 540,\n",
       " 'touch': 541,\n",
       " 'floor': 542,\n",
       " 'solid': 543,\n",
       " 'supporting': 544,\n",
       " 'surface': 545,\n",
       " 'bob': 546,\n",
       " \"oblong's\": 547,\n",
       " 'suggestions': 548,\n",
       " 'used': 549,\n",
       " 'kindling': 550,\n",
       " 'factory': 551,\n",
       " \"'s\": 552,\n",
       " 'furnace': 553,\n",
       " 'laws': 554,\n",
       " 'apply': 555,\n",
       " 'officiating': 556,\n",
       " 'equipment': 557,\n",
       " 'procedures': 558,\n",
       " 'sport': 559,\n",
       " \"alzheimer's\": 560,\n",
       " 'disease': 561,\n",
       " 'degenerative': 562,\n",
       " 'brain': 563,\n",
       " 'disorder': 564,\n",
       " 'results': 565,\n",
       " 'memory': 566,\n",
       " 'loss': 567,\n",
       " 'impaired': 568,\n",
       " 'thinking': 569,\n",
       " 'difficulty': 570,\n",
       " 'finding': 571,\n",
       " 'word': 572,\n",
       " 'speaking': 573,\n",
       " 'personality': 574,\n",
       " 'changes': 575,\n",
       " 'winter': 576,\n",
       " 'virus': 577,\n",
       " 'rapidly': 578,\n",
       " 'spreading': 579,\n",
       " 'young': 580,\n",
       " 'children': 581,\n",
       " 'elderly': 582,\n",
       " \"wasn't\": 583,\n",
       " 'long': 584,\n",
       " 'crate': 585,\n",
       " 'way': 586,\n",
       " 'farm': 587,\n",
       " 'courtesy': 588,\n",
       " 'assistant': 589,\n",
       " 'course': 590,\n",
       " 'clock': 591,\n",
       " 'signal': 592,\n",
       " 'generated': 593,\n",
       " 'external': 594,\n",
       " 'cavity': 595,\n",
       " 'semiconductor': 596,\n",
       " 'laser': 597,\n",
       " 'deadline': 598,\n",
       " 'driven': 599,\n",
       " 'industry': 600,\n",
       " 'only': 601,\n",
       " 'minority': 602,\n",
       " 'armenian': 603,\n",
       " 'physicians': 604,\n",
       " 'felt': 605,\n",
       " 'well': 606,\n",
       " 'counsel': 607,\n",
       " 'patients': 608,\n",
       " 'quit': 609,\n",
       " 'smoking': 610,\n",
       " 'provincial': 611,\n",
       " 'title': 612,\n",
       " 'convincing': 613,\n",
       " '6-1': 614,\n",
       " 'victory': 615,\n",
       " 'over': 616,\n",
       " 'adversaries': 617,\n",
       " 'pas': 618,\n",
       " 'huskies': 619,\n",
       " '360': 620,\n",
       " 'bln': 621,\n",
       " 'yuan': 622,\n",
       " 'invested': 623,\n",
       " 'post-quake': 624,\n",
       " 'reconstruction': 625,\n",
       " 'university': 626,\n",
       " 'washington': 627,\n",
       " 'system': 628,\n",
       " 'named': 629,\n",
       " 'hubble': 630,\n",
       " 'looks': 631,\n",
       " 'these': 632,\n",
       " 'black': 633,\n",
       " 'holes': 634,\n",
       " 'maps': 635,\n",
       " 'web': 636,\n",
       " 'site': 637,\n",
       " 'providing': 638,\n",
       " 'ever-changing': 639,\n",
       " 'constellation': 640,\n",
       " \"internet's\": 641,\n",
       " 'weak': 642,\n",
       " 'landslides': 643,\n",
       " 'earthquakes': 644,\n",
       " 'aftershocks': 645,\n",
       " 'were': 646,\n",
       " 'concentrated': 647,\n",
       " 'along': 648,\n",
       " 'mudstone': 649,\n",
       " 'sandstone': 650,\n",
       " 'surfaces': 651,\n",
       " 'carefully': 652,\n",
       " 'hot': 653,\n",
       " 'coffee': 654,\n",
       " 'glass': 655,\n",
       " 'cup': 656,\n",
       " 'desperate': 657,\n",
       " 'clung': 658,\n",
       " 'stump': 659,\n",
       " 'battered': 660,\n",
       " 'rocks': 661,\n",
       " 'shuddering': 662,\n",
       " 'thump': 663,\n",
       " 'butlers': 664,\n",
       " 'sometimes': 665,\n",
       " 'known': 666,\n",
       " 'household': 667,\n",
       " 'managers': 668,\n",
       " 'respected': 669,\n",
       " 'head': 670,\n",
       " 'staff': 671,\n",
       " 'document': 672,\n",
       " 'makes': 673,\n",
       " 'significant': 674,\n",
       " 'contribution': 675,\n",
       " 'further': 676,\n",
       " 'clarification': 677,\n",
       " 'drinking': 678,\n",
       " 'water': 679,\n",
       " 'day': 680,\n",
       " 'heat': 681,\n",
       " 'exchanger': 682,\n",
       " 'installed': 683,\n",
       " 'fuel': 684,\n",
       " 'systemically': 685,\n",
       " 'dust': 686,\n",
       " 'fume': 687,\n",
       " 'irritation': 688,\n",
       " 'upper': 689,\n",
       " 'tract': 690,\n",
       " 'metallic': 691,\n",
       " 'taste': 692,\n",
       " 'nausea': 693,\n",
       " 'awoke': 694,\n",
       " 'find': 695,\n",
       " 'conjunction': 696,\n",
       " 'grammarians': 697,\n",
       " 'standing': 698,\n",
       " 'me': 699,\n",
       " 'observing': 700,\n",
       " 'my': 701,\n",
       " 'disposition': 702,\n",
       " 'look': 703,\n",
       " 'would': 704,\n",
       " 'put': 705,\n",
       " 'sneer': 706,\n",
       " 'shame': 707,\n",
       " 'disc': 708,\n",
       " 'box': 709,\n",
       " 'plays': 710,\n",
       " 'function': 711,\n",
       " 'pins': 712,\n",
       " 'perpendicular': 713,\n",
       " 'plane': 714,\n",
       " 'skin': 715,\n",
       " 'orange': 716,\n",
       " 'multiple': 717,\n",
       " 'benefits': 718,\n",
       " 'you': 719,\n",
       " 'take': 720,\n",
       " 'advantage': 721,\n",
       " 'contains': 722,\n",
       " 'flavonoids': 723,\n",
       " 'valuable': 724,\n",
       " 'component': 725,\n",
       " 'vitamin': 726,\n",
       " 'c': 727,\n",
       " 'noise': 728,\n",
       " 'sleep': 729,\n",
       " 'deprivation': 730,\n",
       " 'produced': 731,\n",
       " 'construction': 732,\n",
       " 'intolerable': 733,\n",
       " 'tuxedo': 734,\n",
       " 'banquet': 735,\n",
       " 'night': 736,\n",
       " 'peter': 737,\n",
       " \"rickham's\": 738,\n",
       " 'office': 739,\n",
       " 'option': 740,\n",
       " 'extra': 741,\n",
       " 'credit': 742,\n",
       " 'read': 743,\n",
       " 'completed': 744,\n",
       " 'parent': 745,\n",
       " 'book': 746,\n",
       " 'report': 747,\n",
       " 'teacher': 748,\n",
       " \"nrma's\": 749,\n",
       " 'president': 750,\n",
       " 'wendy': 751,\n",
       " 'machin': 752,\n",
       " 'chief': 753,\n",
       " 'executive': 754,\n",
       " 'tony': 755,\n",
       " 'stuart': 756,\n",
       " 'among': 757,\n",
       " 'members': 758,\n",
       " 'party': 759,\n",
       " 'viewed': 760,\n",
       " 'concert': 761,\n",
       " 'private': 762,\n",
       " 'picture': 763,\n",
       " 'top': 764,\n",
       " 'shows': 765,\n",
       " 'farmer': 766,\n",
       " 'genetically': 767,\n",
       " 'engineered': 768,\n",
       " 'cotton': 769,\n",
       " 'plant': 770,\n",
       " 'south': 771,\n",
       " 'africa': 772,\n",
       " '2003': 773,\n",
       " 'integrated': 774,\n",
       " 'production': 775,\n",
       " 'schemes': 776,\n",
       " 'crops': 777,\n",
       " 'may': 778,\n",
       " 'relevance': 779,\n",
       " 'sectors': 780,\n",
       " 'such': 781,\n",
       " 'dairy': 782,\n",
       " 'pen': 783,\n",
       " 'procured': 784,\n",
       " 'pocket': 785,\n",
       " 'lab': 786,\n",
       " 'coat': 787,\n",
       " 'jotted': 788,\n",
       " 'quick': 789,\n",
       " 'note': 790,\n",
       " 'spiral': 791,\n",
       " 'yelling': 792,\n",
       " 'chassis': 793,\n",
       " 'truck': 794,\n",
       " 'two': 795,\n",
       " 'wooden': 796,\n",
       " 'beams': 797,\n",
       " 'carry': 798,\n",
       " 'framework': 799,\n",
       " 'monorails': 800,\n",
       " 'throttle': 801,\n",
       " 'engine': 802,\n",
       " 'wide': 803,\n",
       " 'now': 804,\n",
       " 'roar': 805,\n",
       " 'emitted': 806,\n",
       " 'through': 807,\n",
       " 'vertical': 808,\n",
       " 'exhaust': 809,\n",
       " 'acting': 810,\n",
       " 'stack': 811,\n",
       " 'loud': 812,\n",
       " 'strangely': 813,\n",
       " 'comforting': 814,\n",
       " 'effort': 815,\n",
       " 'research': 816,\n",
       " 'phenomenon': 817,\n",
       " 'voltage': 818,\n",
       " 'collapse': 819,\n",
       " 'article': 820,\n",
       " 'use': 821,\n",
       " 'bench': 822,\n",
       " 'marks': 823,\n",
       " 'surveying': 824,\n",
       " 'mark': 825,\n",
       " \"it's\": 826,\n",
       " 'called': 827,\n",
       " 'symform': 828,\n",
       " 'stealthy': 829,\n",
       " 'seattle': 830,\n",
       " 'outfit': 831,\n",
       " 'founded': 832,\n",
       " 'pair': 833,\n",
       " 'ex-microsoft': 834,\n",
       " 'employees': 835,\n",
       " 'praerit': 836,\n",
       " 'garg': 837,\n",
       " 'bassam': 838,\n",
       " 'tabbara': 839,\n",
       " 'work': 840,\n",
       " 'researchers': 841,\n",
       " 'attest': 842,\n",
       " 'monopoles': 843,\n",
       " 'emergent': 844,\n",
       " 'states': 845,\n",
       " 'matter': 846,\n",
       " 'ie': 847,\n",
       " 'emerge': 848,\n",
       " 'special': 849,\n",
       " 'arrangements': 850,\n",
       " 'dipoles': 851,\n",
       " 'completely': 852,\n",
       " 'constituents': 853,\n",
       " 'material': 854,\n",
       " 'transmitter': 855,\n",
       " 'sends': 856,\n",
       " 'radio': 857,\n",
       " 'doorbell': 858,\n",
       " 'receiver': 859,\n",
       " 'inside': 860,\n",
       " 'statement': 861,\n",
       " 'group': 862,\n",
       " 'reiterated': 863,\n",
       " 'illegal': 864,\n",
       " 'create': 865,\n",
       " 'robot': 866,\n",
       " 'dead': 867,\n",
       " 'bodies': 868,\n",
       " 'energy': 869,\n",
       " 'source': 870,\n",
       " 'classic': 871,\n",
       " 'huffman': 872,\n",
       " 'photograph': 873,\n",
       " 'pictures': 874,\n",
       " 'cow': 875,\n",
       " 'hands': 876,\n",
       " 'set': 877,\n",
       " 'up': 878,\n",
       " 'camp': 879,\n",
       " 'remuda': 880,\n",
       " 'geldings': 881,\n",
       " 'trailing': 882,\n",
       " 'real-time': 883,\n",
       " 'dimensional': 884,\n",
       " 'echocardiography': 885,\n",
       " 'arrived': 886,\n",
       " 'our': 887,\n",
       " 'clinical': 888,\n",
       " 'cardiology': 889,\n",
       " 'allowing': 890,\n",
       " 'noninvasive': 891,\n",
       " 'repeatable': 892,\n",
       " 'spatial': 893,\n",
       " 'visualisation': 894,\n",
       " 'news': 895,\n",
       " 'broken': 896,\n",
       " 'engagement': 897,\n",
       " 'came': 898,\n",
       " 'hewitt': 899,\n",
       " 'snapped': 900,\n",
       " 'sobbing': 901,\n",
       " 'packed': 902,\n",
       " 'luggage': 903,\n",
       " 'vehicle': 904,\n",
       " 'home': 905,\n",
       " 'germans': 906,\n",
       " 'complained': 907,\n",
       " 'bitterly': 908,\n",
       " 'rostrum': 909,\n",
       " 'newspapers': 910,\n",
       " 'complaints': 911,\n",
       " 'reflected': 912,\n",
       " 'propaganda': 913,\n",
       " 'films': 914,\n",
       " 'regarding': 915,\n",
       " 'soldiers': 916,\n",
       " 'french': 917,\n",
       " 'colonial': 918,\n",
       " 'products': 919,\n",
       " 'manufactured': 920,\n",
       " 'firm': 921,\n",
       " 'still': 922,\n",
       " 'continue': 923,\n",
       " 'chiefly': 924,\n",
       " 'dyestuffs': 925,\n",
       " 'remainder': 926,\n",
       " 'reconstructed': 927,\n",
       " 'deryck': 928,\n",
       " 'cooke': 929,\n",
       " '1964': 930,\n",
       " 'extensive': 931,\n",
       " 'sketches': 932,\n",
       " 'composer': 933,\n",
       " 'specifying': 934,\n",
       " 'command': 935,\n",
       " 'once': 936,\n",
       " 'consumers': 937,\n",
       " 'execute': 938,\n",
       " 'using': 939,\n",
       " 'input': 940,\n",
       " 'parameters': 941,\n",
       " 'reminds': 942,\n",
       " \"broker's\": 943,\n",
       " 'prediction': 944,\n",
       " \"abc's\": 945,\n",
       " 'stock': 946,\n",
       " \"def's\": 947,\n",
       " 'next': 948,\n",
       " 'month': 949,\n",
       " 'same': 950,\n",
       " 'destruction': 951,\n",
       " 'economy': 952,\n",
       " 'running': 953,\n",
       " 'show': 954,\n",
       " 'so': 955,\n",
       " 'us': 956,\n",
       " 'down': 957,\n",
       " 'buy': 958,\n",
       " 'country': 959,\n",
       " 'cheap': 960,\n",
       " 'nuclear': 961,\n",
       " 'qualified': 962,\n",
       " 'electronics': 963,\n",
       " 'technicians': 964,\n",
       " 'sent': 965,\n",
       " 'aircraft': 966,\n",
       " 'carriers': 967,\n",
       " 'attaches': 968,\n",
       " 'flashlight': 969,\n",
       " 'rifle': 970,\n",
       " 'later': 971,\n",
       " 'discarded': 972,\n",
       " 'additionally': 973,\n",
       " 'record': 974,\n",
       " 'vietnam': 975,\n",
       " 'veteran': 976,\n",
       " 'documented': 977,\n",
       " 'recent': 978,\n",
       " 'cases': 979,\n",
       " 'reported': 980,\n",
       " 'media': 981,\n",
       " 'older': 982,\n",
       " \"woman's\": 983,\n",
       " 'baby': 984,\n",
       " 'stillborn': 985,\n",
       " 'because': 986,\n",
       " 'abnormal': 987,\n",
       " 'placeta': 988,\n",
       " 'miscarriages': 989,\n",
       " 'umbilical': 990,\n",
       " 'chord': 991,\n",
       " 'encircling': 992,\n",
       " 'fetus': 993,\n",
       " 'plan': 994,\n",
       " 'join': 995,\n",
       " 'convoy': 996,\n",
       " 'buses': 997,\n",
       " 'vans': 998,\n",
       " 'coasters': 999,\n",
       " ...}"
      ]
     },
     "execution_count": 307,
     "metadata": {},
     "output_type": "execute_result"
    }
   ],
   "source": [
    "vocab_dic = vocab_processor.vocabulary_._mapping\n",
    "vocab_dic"
   ]
  },
  {
   "cell_type": "code",
   "execution_count": 310,
   "metadata": {
    "ExecuteTime": {
     "end_time": "2021-01-01T06:20:13.703372Z",
     "start_time": "2021-01-01T06:20:13.699856Z"
    }
   },
   "outputs": [
    {
     "name": "stdout",
     "output_type": "stream",
     "text": [
      "the.body.of.her.nephew.was.in.a.suitcase.under.the.bed\n",
      "[ 1  2  3  4  5  6  7  8  9 10  1 11  0  0  0  0  0  0  0  0  0  0  0  0\n",
      "  0  0  0  0  0  0  0  0  0  0  0  0  0  0  0  0  0  0  0  0  0  0  0  0\n",
      "  0  0  0  0  0  0  0  0  0  0  0  0  0  0  0  0  0  0  0  0  0  0  0  0\n",
      "  0  0  0  0  0  0  0  0  0  0  0]\n"
     ]
    }
   ],
   "source": [
    "print(texts_test[0])\n",
    "#print(len(text_processed_test[0]))\n",
    "print(text_processed_test[0])"
   ]
  },
  {
   "cell_type": "code",
   "execution_count": 311,
   "metadata": {
    "ExecuteTime": {
     "end_time": "2021-01-01T06:20:14.184512Z",
     "start_time": "2021-01-01T06:20:14.181391Z"
    }
   },
   "outputs": [
    {
     "name": "stdout",
     "output_type": "stream",
     "text": [
      "the.author.of.a.keygen.uses.a.disassembler.to.look.at.the.raw.assembly.code\n",
      "[   1 1885    3    8    0  438    8    0   30  703  247    1 2164 6913\n",
      " 3955    0    0    0    0    0    0    0    0    0    0    0    0    0\n",
      "    0    0    0    0    0    0    0    0    0    0    0    0    0    0\n",
      "    0    0    0    0    0    0    0    0    0    0    0    0    0    0\n",
      "    0    0    0    0    0    0    0    0    0    0    0    0    0    0\n",
      "    0    0    0    0    0    0    0    0    0    0    0    0    0]\n"
     ]
    }
   ],
   "source": [
    "print(texts[0])\n",
    "#print(len(text_processed_test[0]))\n",
    "print(text_processed[0])"
   ]
  },
  {
   "cell_type": "code",
   "execution_count": null,
   "metadata": {},
   "outputs": [],
   "source": []
  },
  {
   "cell_type": "code",
   "execution_count": 312,
   "metadata": {
    "ExecuteTime": {
     "end_time": "2021-01-01T06:20:14.921834Z",
     "start_time": "2021-01-01T06:20:14.916610Z"
    }
   },
   "outputs": [
    {
     "name": "stdout",
     "output_type": "stream",
     "text": [
      "[('<UNK>', 0), ('the', 1), ('body', 2), ('of', 3), ('her', 4), ('nephew', 5), ('was', 6), ('in', 7), ('a', 8), ('suitcase', 9), ('under', 10), ('bed', 11), ('drama', 12), ('unfolded', 13), ('shortly', 14), ('after', 15), ('7pm', 16), ('last', 17), ('tuesday', 18), ('december', 19)]\n"
     ]
    }
   ],
   "source": [
    "dict = vocab_processor.vocabulary_._mapping\n",
    "sorted_vocab = sorted(dict.items(), key=lambda x: x[1])\n",
    "print(sorted_vocab[:20])"
   ]
  },
  {
   "cell_type": "code",
   "execution_count": 313,
   "metadata": {
    "ExecuteTime": {
     "end_time": "2021-01-01T06:20:15.347590Z",
     "start_time": "2021-01-01T06:20:15.345765Z"
    }
   },
   "outputs": [],
   "source": [
    "# 改小embedding size似乎仍然overfit"
   ]
  },
  {
   "cell_type": "code",
   "execution_count": 324,
   "metadata": {
    "ExecuteTime": {
     "end_time": "2021-01-01T06:24:23.844268Z",
     "start_time": "2021-01-01T06:24:22.273716Z"
    }
   },
   "outputs": [
    {
     "name": "stderr",
     "output_type": "stream",
     "text": [
      "/opt/anaconda3/envs/tensorflow/lib/python3.7/site-packages/ipykernel_launcher.py:6: UserWarning: The `dropout` argument is no longer support in `Embedding`. You can apply a `keras.layers.SpatialDropout1D` layer right after the `Embedding` layer to get the same behavior.\n",
      "  \n"
     ]
    },
    {
     "name": "stdout",
     "output_type": "stream",
     "text": [
      "Model: \"sequential_11\"\n",
      "_________________________________________________________________\n",
      "Layer (type)                 Output Shape              Param #   \n",
      "=================================================================\n",
      "embedding_11 (Embedding)     (None, 83, 100)           771500    \n",
      "_________________________________________________________________\n",
      "bidirectional_11 (Bidirectio (None, 200)               160800    \n",
      "_________________________________________________________________\n",
      "dense_11 (Dense)             (None, 10)                2010      \n",
      "_________________________________________________________________\n",
      "activation_11 (Activation)   (None, 10)                0         \n",
      "=================================================================\n",
      "Total params: 934,310\n",
      "Trainable params: 934,310\n",
      "Non-trainable params: 0\n",
      "_________________________________________________________________\n"
     ]
    }
   ],
   "source": [
    "embedding_size = 100\n",
    "\n",
    "model = krs.Sequential()\n",
    "model.add(krs.layers.Embedding(len(dict.items()),\n",
    "                embedding_size, input_length = max_sequence_length,\n",
    "                 mask_zero= True  ,dropout = 0.2  ))\n",
    "model.add(krs.layers.Bidirectional(krs.layers.LSTM(100,dropout = 0.5)))\n",
    "model.add(krs.layers.Dense(10))\n",
    "model.add(krs.layers.Activation(\"softmax\"))\n",
    "model.summary()"
   ]
  },
  {
   "cell_type": "code",
   "execution_count": 315,
   "metadata": {
    "ExecuteTime": {
     "end_time": "2021-01-01T06:20:16.687178Z",
     "start_time": "2021-01-01T06:20:16.684109Z"
    }
   },
   "outputs": [
    {
     "name": "stdout",
     "output_type": "stream",
     "text": [
      "the.author.of.a.keygen.uses.a.disassembler.to.look.at.the.raw.assembly.code \n",
      " [   1 1885    3    8    0  438    8    0   30  703  247    1 2164 6913\n",
      " 3955    0    0    0    0    0    0    0    0    0    0    0    0    0\n",
      "    0    0    0    0    0    0    0    0    0    0    0    0    0    0\n",
      "    0    0    0    0    0    0    0    0    0    0    0    0    0    0\n",
      "    0    0    0    0    0    0    0    0    0    0    0    0    0    0\n",
      "    0    0    0    0    0    0    0    0    0    0    0    0    0]\n"
     ]
    }
   ],
   "source": [
    "print(texts[0],'\\n',text_processed[0])"
   ]
  },
  {
   "cell_type": "code",
   "execution_count": 316,
   "metadata": {
    "ExecuteTime": {
     "end_time": "2021-01-01T06:20:16.765115Z",
     "start_time": "2021-01-01T06:20:16.762942Z"
    }
   },
   "outputs": [],
   "source": [
    "# -- 对于多分类问题：应该选用下面的loss和acc"
   ]
  },
  {
   "cell_type": "code",
   "execution_count": 317,
   "metadata": {
    "ExecuteTime": {
     "end_time": "2021-01-01T06:20:17.084548Z",
     "start_time": "2021-01-01T06:20:17.026573Z"
    }
   },
   "outputs": [],
   "source": [
    "model.compile(loss = \"categorical_crossentropy\", optimizer= \"adam\", metrics=[\"categorical_accuracy\"])"
   ]
  },
  {
   "cell_type": "code",
   "execution_count": 319,
   "metadata": {
    "ExecuteTime": {
     "end_time": "2021-01-01T06:20:26.377516Z",
     "start_time": "2021-01-01T06:20:26.375203Z"
    }
   },
   "outputs": [],
   "source": [
    "BATCH_SIZE = 128\n",
    "EPOCH = 25"
   ]
  },
  {
   "cell_type": "code",
   "execution_count": 320,
   "metadata": {
    "ExecuteTime": {
     "end_time": "2021-01-01T06:20:26.839619Z",
     "start_time": "2021-01-01T06:20:26.835845Z"
    }
   },
   "outputs": [],
   "source": [
    "BATCH_SIZE = 128\n",
    "EPOCH = 25\n",
    "ckpt = krs.callbacks.ModelCheckpoint('./temp/ckpt', monitor='val_categorical_accuracy', verbose=1,\n",
    "                                          save_best_only=True, save_weights_only=False, period=1)\n",
    "earlystop = krs.callbacks.EarlyStopping(monitor='val_loss', min_delta=0.0001,\n",
    "                                             patience=3, verbose=1)\n",
    "# patience: n次acc未增长则终止训练"
   ]
  },
  {
   "cell_type": "code",
   "execution_count": 321,
   "metadata": {
    "ExecuteTime": {
     "end_time": "2021-01-01T06:20:27.284255Z",
     "start_time": "2021-01-01T06:20:27.280170Z"
    }
   },
   "outputs": [],
   "source": [
    "# 衰减学习率\n",
    "class LearningRateExponentialDecay:\n",
    "    def __init__(self, initial_learning_rate, decay_epochs, decay_rate):\n",
    "        self.initial_learning_rate = initial_learning_rate\n",
    "        self.decay_epochs = decay_epochs\n",
    "        self.decay_rate = decay_rate\n",
    "\n",
    "    def __call__(self, epoch):\n",
    "        dtype = type(self.initial_learning_rate)\n",
    "        decay_epochs = np.array(self.decay_epochs).astype(dtype)\n",
    "        decay_rate = np.array(self.decay_rate).astype(dtype)\n",
    "        epoch = np.array(epoch).astype(dtype)\n",
    "        p = epoch / decay_epochs\n",
    "        learning_rate = self.initial_learning_rate * np.power(decay_rate, p)\n",
    "        return learning_rate"
   ]
  },
  {
   "cell_type": "code",
   "execution_count": 322,
   "metadata": {
    "ExecuteTime": {
     "end_time": "2021-01-01T06:20:27.646121Z",
     "start_time": "2021-01-01T06:20:27.643616Z"
    }
   },
   "outputs": [],
   "source": [
    "lr_schedule = LearningRateExponentialDecay(0.0003, EPOCH, 0.80)\n",
    "lr = krs.callbacks.LearningRateScheduler(lr_schedule, verbose=1)"
   ]
  },
  {
   "cell_type": "code",
   "execution_count": 323,
   "metadata": {
    "ExecuteTime": {
     "end_time": "2021-01-01T06:23:20.273185Z",
     "start_time": "2021-01-01T06:20:28.147979Z"
    }
   },
   "outputs": [
    {
     "name": "stdout",
     "output_type": "stream",
     "text": [
      "Train on 5800 samples, validate on 600 samples\n",
      "Epoch 1/25\n",
      "\n",
      "Epoch 00001: LearningRateScheduler setting learning rate to 0.0003.\n",
      "5800/5800 [==============================] - 12s 2ms/step - loss: 2.2857 - categorical_accuracy: 0.1557 - val_loss: 2.2547 - val_categorical_accuracy: 0.1567\n",
      "\n",
      "Epoch 00001: val_categorical_accuracy improved from -inf to 0.15667, saving model to ./temp/ckpt\n",
      "Epoch 2/25\n",
      "\n",
      "Epoch 00002: LearningRateScheduler setting learning rate to 0.0002973341922389158.\n",
      "5800/5800 [==============================] - 9s 2ms/step - loss: 2.2136 - categorical_accuracy: 0.1848 - val_loss: 2.1468 - val_categorical_accuracy: 0.2483\n",
      "\n",
      "Epoch 00002: val_categorical_accuracy improved from 0.15667 to 0.24833, saving model to ./temp/ckpt\n",
      "Epoch 3/25\n",
      "\n",
      "Epoch 00003: LearningRateScheduler setting learning rate to 0.0002946920729145618.\n",
      "5800/5800 [==============================] - 9s 2ms/step - loss: 2.0421 - categorical_accuracy: 0.2995 - val_loss: 1.9120 - val_categorical_accuracy: 0.3633\n",
      "\n",
      "Epoch 00003: val_categorical_accuracy improved from 0.24833 to 0.36333, saving model to ./temp/ckpt\n",
      "Epoch 4/25\n",
      "\n",
      "Epoch 00004: LearningRateScheduler setting learning rate to 0.0002920734315308764.\n",
      "5800/5800 [==============================] - 10s 2ms/step - loss: 1.7929 - categorical_accuracy: 0.3824 - val_loss: 1.7688 - val_categorical_accuracy: 0.3950\n",
      "\n",
      "Epoch 00004: val_categorical_accuracy improved from 0.36333 to 0.39500, saving model to ./temp/ckpt\n",
      "Epoch 5/25\n",
      "\n",
      "Epoch 00005: LearningRateScheduler setting learning rate to 0.00028947805946227145.\n",
      "5800/5800 [==============================] - 10s 2ms/step - loss: 1.6187 - categorical_accuracy: 0.4479 - val_loss: 1.6931 - val_categorical_accuracy: 0.4117\n",
      "\n",
      "Epoch 00005: val_categorical_accuracy improved from 0.39500 to 0.41167, saving model to ./temp/ckpt\n",
      "Epoch 6/25\n",
      "\n",
      "Epoch 00006: LearningRateScheduler setting learning rate to 0.0002869057499370111.\n",
      "5800/5800 [==============================] - 10s 2ms/step - loss: 1.4885 - categorical_accuracy: 0.4928 - val_loss: 1.6804 - val_categorical_accuracy: 0.4183\n",
      "\n",
      "Epoch 00006: val_categorical_accuracy improved from 0.41167 to 0.41833, saving model to ./temp/ckpt\n",
      "Epoch 7/25\n",
      "\n",
      "Epoch 00007: LearningRateScheduler setting learning rate to 0.00028435629802073855.\n",
      "5800/5800 [==============================] - 10s 2ms/step - loss: 1.3712 - categorical_accuracy: 0.5310 - val_loss: 1.6504 - val_categorical_accuracy: 0.4200\n",
      "\n",
      "Epoch 00007: val_categorical_accuracy improved from 0.41833 to 0.42000, saving model to ./temp/ckpt\n",
      "Epoch 8/25\n",
      "\n",
      "Epoch 00008: LearningRateScheduler setting learning rate to 0.00028182950060014905.\n",
      "5800/5800 [==============================] - 10s 2ms/step - loss: 1.2657 - categorical_accuracy: 0.5729 - val_loss: 1.6515 - val_categorical_accuracy: 0.4400\n",
      "\n",
      "Epoch 00008: val_categorical_accuracy improved from 0.42000 to 0.44000, saving model to ./temp/ckpt\n",
      "Epoch 9/25\n",
      "\n",
      "Epoch 00009: LearningRateScheduler setting learning rate to 0.0002793251563668079.\n",
      "5800/5800 [==============================] - 10s 2ms/step - loss: 1.1736 - categorical_accuracy: 0.6060 - val_loss: 1.6598 - val_categorical_accuracy: 0.4233\n",
      "\n",
      "Epoch 00009: val_categorical_accuracy did not improve from 0.44000\n",
      "Epoch 10/25\n",
      "\n",
      "Epoch 00010: LearningRateScheduler setting learning rate to 0.00027684306580111226.\n",
      "5800/5800 [==============================] - 10s 2ms/step - loss: 1.0671 - categorical_accuracy: 0.6469 - val_loss: 1.6724 - val_categorical_accuracy: 0.4317\n",
      "\n",
      "Epoch 00010: val_categorical_accuracy did not improve from 0.44000\n",
      "Epoch 11/25\n",
      "\n",
      "Epoch 00011: LearningRateScheduler setting learning rate to 0.0002743830311563958.\n",
      "5800/5800 [==============================] - 10s 2ms/step - loss: 0.9889 - categorical_accuracy: 0.6747 - val_loss: 1.6727 - val_categorical_accuracy: 0.4417\n",
      "\n",
      "Epoch 00011: val_categorical_accuracy improved from 0.44000 to 0.44167, saving model to ./temp/ckpt\n",
      "Epoch 12/25\n",
      "\n",
      "Epoch 00012: LearningRateScheduler setting learning rate to 0.00027194485644317407.\n",
      "5800/5800 [==============================] - 9s 2ms/step - loss: 0.8898 - categorical_accuracy: 0.7136 - val_loss: 1.7182 - val_categorical_accuracy: 0.4517\n",
      "\n",
      "Epoch 00012: val_categorical_accuracy improved from 0.44167 to 0.45167, saving model to ./temp/ckpt\n",
      "Epoch 13/25\n",
      "\n",
      "Epoch 00013: LearningRateScheduler setting learning rate to 0.0002695283474135303.\n",
      "5800/5800 [==============================] - 10s 2ms/step - loss: 0.8184 - categorical_accuracy: 0.7400 - val_loss: 1.7673 - val_categorical_accuracy: 0.4650\n",
      "\n",
      "Epoch 00013: val_categorical_accuracy improved from 0.45167 to 0.46500, saving model to ./temp/ckpt\n",
      "Epoch 14/25\n",
      "\n",
      "Epoch 00014: LearningRateScheduler setting learning rate to 0.0002671333115456397.\n",
      "5800/5800 [==============================] - 10s 2ms/step - loss: 0.7680 - categorical_accuracy: 0.7559 - val_loss: 1.7722 - val_categorical_accuracy: 0.4700\n",
      "\n",
      "Epoch 00014: val_categorical_accuracy improved from 0.46500 to 0.47000, saving model to ./temp/ckpt\n",
      "Epoch 15/25\n",
      "\n",
      "Epoch 00015: LearningRateScheduler setting learning rate to 0.0002647595580284314.\n",
      "5800/5800 [==============================] - 10s 2ms/step - loss: 0.6948 - categorical_accuracy: 0.7900 - val_loss: 1.8450 - val_categorical_accuracy: 0.4650\n",
      "\n",
      "Epoch 00015: val_categorical_accuracy did not improve from 0.47000\n",
      "Epoch 16/25\n",
      "\n",
      "Epoch 00016: LearningRateScheduler setting learning rate to 0.00026240689774638675.\n",
      "5800/5800 [==============================] - 10s 2ms/step - loss: 0.6426 - categorical_accuracy: 0.8062 - val_loss: 1.9405 - val_categorical_accuracy: 0.4667\n",
      "\n",
      "Epoch 00016: val_categorical_accuracy did not improve from 0.47000\n",
      "Epoch 17/25\n",
      "\n",
      "Epoch 00017: LearningRateScheduler setting learning rate to 0.00026007514326447225.\n",
      "5800/5800 [==============================] - 10s 2ms/step - loss: 0.5923 - categorical_accuracy: 0.8195 - val_loss: 1.8909 - val_categorical_accuracy: 0.4650\n",
      "\n",
      "Epoch 00017: val_categorical_accuracy did not improve from 0.47000\n",
      "Epoch 00017: early stopping\n"
     ]
    }
   ],
   "source": [
    "lr_schedule = LearningRateExponentialDecay(0.0003, EPOCH, 0.80)\n",
    "lr = krs.callbacks.LearningRateScheduler(lr_schedule, verbose=1)\n",
    "history = model.fit(x=text_processed, y=dummy_target, batch_size=BATCH_SIZE,\n",
    "                    epochs=EPOCH, validation_data=(text_processed_val, dummy_target_val),\n",
    "                    callbacks=[ckpt, earlystop, lr], verbose=1)"
   ]
  },
  {
   "cell_type": "code",
   "execution_count": 301,
   "metadata": {
    "ExecuteTime": {
     "end_time": "2021-01-01T06:09:41.807108Z",
     "start_time": "2021-01-01T06:09:41.644938Z"
    }
   },
   "outputs": [
    {
     "data": {
      "image/png": "[encoded data removed]",
      "text/plain": [
       "<Figure size 432x288 with 1 Axes>"
      ]
     },
     "metadata": {
      "needs_background": "light"
     },
     "output_type": "display_data"
    }
   ],
   "source": [
    "plt.figure()  # 初始化画布\n",
    "N = [i for i in range(len(history.history['loss']))]  # 取横坐标的值\n",
    "plt.plot(N, history.history['loss'], label='train_loss')  # 绘制训练loss的折线图\n",
    "plt.scatter(N, history.history['loss'])  # 绘制训练loss的散点图\n",
    "plt.plot(N, history.history['val_loss'], label='val_loss')\n",
    "plt.scatter(N, history.history['val_loss'])\n",
    "plt.xlabel('Epoch #')  # 设置坐标轴名称\n",
    "plt.ylabel('Loss')\n",
    "plt.legend()\n",
    "plt.show()  # 显示图片"
   ]
  },
  {
   "cell_type": "code",
   "execution_count": 276,
   "metadata": {
    "ExecuteTime": {
     "end_time": "2021-01-01T06:05:06.773089Z",
     "start_time": "2021-01-01T06:05:06.473996Z"
    }
   },
   "outputs": [
    {
     "name": "stdout",
     "output_type": "stream",
     "text": [
      "600/600 [==============================] - 0s 490us/step\n",
      "[1.8880992380777994, 0.4650000035762787]\n"
     ]
    }
   ],
   "source": [
    "metrics=model.evaluate(x=text_processed_val, y=dummy_target_val, verbose=1)\n",
    "print(metrics)"
   ]
  },
  {
   "cell_type": "code",
   "execution_count": 277,
   "metadata": {
    "ExecuteTime": {
     "end_time": "2021-01-01T06:05:08.276693Z",
     "start_time": "2021-01-01T06:05:08.274784Z"
    }
   },
   "outputs": [],
   "source": [
    "# 查看val_set上的 acc, 与上面metric一致"
   ]
  },
  {
   "cell_type": "code",
   "execution_count": 278,
   "metadata": {
    "ExecuteTime": {
     "end_time": "2021-01-01T06:05:10.166646Z",
     "start_time": "2021-01-01T06:05:09.159872Z"
    }
   },
   "outputs": [
    {
     "name": "stdout",
     "output_type": "stream",
     "text": [
      "0.465\n"
     ]
    }
   ],
   "source": [
    "def check_accuracy(ture_lables, predict_lables):\n",
    "    num = 0\n",
    "    for i in range(len(ture_lables)):\n",
    "        if int(ture_lables[i]) == predict_lables[i]:\n",
    "            num += 1\n",
    "    return num/len(ture_lables)\n",
    "\n",
    "y_val = np.argmax(model.predict(text_processed_val), axis=1)\n",
    "y_val = list(y_val)\n",
    "\n",
    "print(check_accuracy(labels_val,y_val))"
   ]
  },
  {
   "cell_type": "code",
   "execution_count": 279,
   "metadata": {
    "ExecuteTime": {
     "end_time": "2021-01-01T06:05:10.274824Z",
     "start_time": "2021-01-01T06:05:10.272681Z"
    }
   },
   "outputs": [],
   "source": [
    "# 预测lables 的分布"
   ]
  },
  {
   "cell_type": "code",
   "execution_count": 280,
   "metadata": {
    "ExecuteTime": {
     "end_time": "2021-01-01T06:05:11.260905Z",
     "start_time": "2021-01-01T06:05:11.137433Z"
    }
   },
   "outputs": [
    {
     "data": {
      "image/png": "[encoded data removed]",
      "text/plain": [
       "<Figure size 432x288 with 1 Axes>"
      ]
     },
     "metadata": {
      "needs_background": "light"
     },
     "output_type": "display_data"
    }
   ],
   "source": [
    "labels_id = ['0', '1', '2', '3', '4', '5', '6', '7', '8', '9']\n",
    "x = [i for i in range(len(labels_id))]\n",
    "count_in_train = [y_val.count(label) / len(y_val) for label in range(10)]  # 统计训练集占比\n",
    "plt.figure()\n",
    "plt.bar(x, count_in_train, width=0.5, label=\"train_set\")\n",
    "plt.legend()\n",
    "plt.show()"
   ]
  },
  {
   "cell_type": "code",
   "execution_count": null,
   "metadata": {
    "ExecuteTime": {
     "end_time": "2020-12-28T17:00:06.779748Z",
     "start_time": "2020-12-28T17:00:06.743704Z"
    }
   },
   "outputs": [],
   "source": [
    "model.save('./temp/tf_model')"
   ]
  },
  {
   "cell_type": "code",
   "execution_count": 114,
   "metadata": {
    "ExecuteTime": {
     "end_time": "2021-01-01T05:21:36.712572Z",
     "start_time": "2021-01-01T05:21:33.783667Z"
    }
   },
   "outputs": [
    {
     "name": "stdout",
     "output_type": "stream",
     "text": [
      "LOAD DONE\n"
     ]
    }
   ],
   "source": [
    "model_loaded = krs.models.load_model('./temp/ckpt')\n",
    "print('LOAD DONE')"
   ]
  },
  {
   "cell_type": "code",
   "execution_count": 180,
   "metadata": {
    "ExecuteTime": {
     "end_time": "2021-01-01T05:45:34.439605Z",
     "start_time": "2021-01-01T05:45:34.436213Z"
    }
   },
   "outputs": [],
   "source": [
    "def load_test_data(filename):\n",
    "    text_list = []\n",
    "    print(\"正在加载文本测试数据...\")\n",
    "    with open(filename, \"r\") as f:\n",
    "        for line in f.readlines():\n",
    "            item = line.strip().split('\\t')\n",
    "            text_list.append(item[0])\n",
    "        \n",
    "    print(\"共加载了 %s 条数据\" % len(text_list))\n",
    "    return text_list"
   ]
  },
  {
   "cell_type": "code",
   "execution_count": 181,
   "metadata": {
    "ExecuteTime": {
     "end_time": "2021-01-01T05:45:35.197796Z",
     "start_time": "2021-01-01T05:45:35.190857Z"
    }
   },
   "outputs": [
    {
     "name": "stdout",
     "output_type": "stream",
     "text": [
      "正在加载文本测试数据...\n",
      "共加载了 1600 条数据\n"
     ]
    }
   ],
   "source": [
    "# 读取测试集\n",
    "test_data_path = '../data/test_processed.txt'\n",
    "\n",
    "texts_test = load_test_data(test_data_path)"
   ]
  },
  {
   "cell_type": "code",
   "execution_count": 182,
   "metadata": {
    "ExecuteTime": {
     "end_time": "2021-01-01T05:45:36.996528Z",
     "start_time": "2021-01-01T05:45:36.993232Z"
    }
   },
   "outputs": [
    {
     "data": {
      "text/plain": [
       "'The body of her nephew was in a suitcase under the bed'"
      ]
     },
     "execution_count": 182,
     "metadata": {},
     "output_type": "execute_result"
    }
   ],
   "source": [
    "texts_test[0]"
   ]
  },
  {
   "cell_type": "code",
   "execution_count": 183,
   "metadata": {
    "ExecuteTime": {
     "end_time": "2021-01-01T05:45:41.580956Z",
     "start_time": "2021-01-01T05:45:41.523549Z"
    }
   },
   "outputs": [],
   "source": [
    "texts_test = [\".\".join(t.split(' ')) for t in texts_test]\n",
    "\n",
    "\n",
    "text_processed_test = np.array(list(vocab_processor.fit_transform(texts_test)))"
   ]
  },
  {
   "cell_type": "code",
   "execution_count": 184,
   "metadata": {
    "ExecuteTime": {
     "end_time": "2021-01-01T05:45:42.028761Z",
     "start_time": "2021-01-01T05:45:42.025603Z"
    }
   },
   "outputs": [
    {
     "data": {
      "text/plain": [
       "array([ 0,  2,  3,  4,  5,  6,  7,  8,  9, 10,  1, 11,  0,  0,  0,  0,  0,\n",
       "        0,  0,  0,  0,  0,  0,  0,  0,  0,  0,  0,  0,  0,  0,  0,  0,  0,\n",
       "        0,  0,  0,  0,  0,  0,  0,  0,  0,  0,  0,  0,  0,  0,  0,  0,  0,\n",
       "        0,  0,  0,  0,  0,  0,  0,  0,  0,  0,  0,  0,  0,  0,  0,  0,  0,\n",
       "        0,  0,  0,  0,  0,  0,  0,  0,  0,  0,  0,  0,  0,  0,  0])"
      ]
     },
     "execution_count": 184,
     "metadata": {},
     "output_type": "execute_result"
    }
   ],
   "source": [
    "text_processed_test[0]"
   ]
  },
  {
   "cell_type": "code",
   "execution_count": 121,
   "metadata": {
    "ExecuteTime": {
     "end_time": "2021-01-01T05:22:08.502136Z",
     "start_time": "2021-01-01T05:22:07.515274Z"
    }
   },
   "outputs": [],
   "source": [
    "y_prob = model_loaded.predict(text_processed_test)"
   ]
  },
  {
   "cell_type": "code",
   "execution_count": 185,
   "metadata": {
    "ExecuteTime": {
     "end_time": "2021-01-01T05:45:48.886589Z",
     "start_time": "2021-01-01T05:45:48.109328Z"
    }
   },
   "outputs": [],
   "source": [
    "y_prob = model.predict(text_processed_test)"
   ]
  },
  {
   "cell_type": "code",
   "execution_count": 186,
   "metadata": {
    "ExecuteTime": {
     "end_time": "2021-01-01T05:45:49.613989Z",
     "start_time": "2021-01-01T05:45:49.610445Z"
    }
   },
   "outputs": [
    {
     "name": "stdout",
     "output_type": "stream",
     "text": [
      "[3 4 4 7 1 9 0 2 9 4 0 7 9 7 2 7 2 2 9 7 8 8 6 9 1 9 7 9 9 2 3 5 0 0 9 0 7\n",
      " 4 5 2 3 2 2 9 3 6 4 9 3 4 9 9 9 0 9 7 0 1 9 9 5 7 0 5 1 9 9 5 0 9 1 6 0 3\n",
      " 3 6 2 9 6 6 6 9 8 2 4 6 4 7 9 9 4 9 4 9 1 6 9 1 8 0]\n"
     ]
    }
   ],
   "source": [
    "y_pre = np.argmax(y_prob, axis=1)\n",
    "print(y_pre[:100])\n"
   ]
  },
  {
   "cell_type": "code",
   "execution_count": 476,
   "metadata": {
    "ExecuteTime": {
     "end_time": "2021-01-04T11:12:02.413009Z",
     "start_time": "2021-01-04T11:12:02.237275Z"
    }
   },
   "outputs": [
    {
     "data": {
      "image/png": "[encoded data removed]",
      "text/plain": [
       "<Figure size 432x288 with 1 Axes>"
      ]
     },
     "metadata": {
      "needs_background": "light"
     },
     "output_type": "display_data"
    }
   ],
   "source": [
    "\n",
    "\n",
    "labels_id = ['0', '1', '2', '3', '4', '5', '6', '7', '8', '9']\n",
    "x = [i for i in range(len(labels_id))]\n",
    "count_in_train = [y_test.count(label) / len(y_test) for label in range(10)]  # 统计训练集占比\n",
    "plt.figure()\n",
    "plt.bar(x, count_in_train, width=0.5, label=\"test_set\")\n",
    "plt.legend()\n",
    "plt.show()"
   ]
  },
  {
   "cell_type": "markdown",
   "metadata": {},
   "source": [
    "#  The ture accuracy"
   ]
  },
  {
   "cell_type": "code",
   "execution_count": null,
   "metadata": {
    "ExecuteTime": {
     "end_time": "2020-12-29T00:24:35.851513Z",
     "start_time": "2020-12-29T00:24:35.847979Z"
    }
   },
   "outputs": [],
   "source": [
    "int(labels_val[1])"
   ]
  },
  {
   "cell_type": "code",
   "execution_count": null,
   "metadata": {},
   "outputs": [],
   "source": []
  },
  {
   "cell_type": "code",
   "execution_count": null,
   "metadata": {},
   "outputs": [],
   "source": []
  },
  {
   "cell_type": "code",
   "execution_count": null,
   "metadata": {
    "ExecuteTime": {
     "end_time": "2020-12-29T01:05:45.493999Z",
     "start_time": "2020-12-29T01:05:45.361024Z"
    }
   },
   "outputs": [],
   "source": [
    "labels_id = ['0', '1', '2', '3', '4', '5', '6', '7', '8', '9']\n",
    "x = [i for i in range(len(labels_id))]\n",
    "count_in_train = [y_val.count(label) / len(y_val) for label in range(10)]  # 统计训练集占比\n",
    "plt.figure()\n",
    "plt.bar(x, count_in_train, width=0.5, label=\"train_set\")\n",
    "plt.legend()\n",
    "plt.show()"
   ]
  },
  {
   "cell_type": "code",
   "execution_count": null,
   "metadata": {
    "ExecuteTime": {
     "end_time": "2020-12-29T00:24:57.668743Z",
     "start_time": "2020-12-29T00:24:57.665992Z"
    }
   },
   "outputs": [],
   "source": [
    "print(y_test[1:100])\n",
    "print(y_val[1:100])"
   ]
  },
  {
   "cell_type": "markdown",
   "metadata": {},
   "source": [
    "# lable on test"
   ]
  },
  {
   "cell_type": "code",
   "execution_count": null,
   "metadata": {
    "ExecuteTime": {
     "end_time": "2020-12-28T17:11:17.161902Z",
     "start_time": "2020-12-28T17:11:17.158100Z"
    }
   },
   "outputs": [],
   "source": [
    "y_test = list(y_pre)\n",
    "len(y_test)"
   ]
  },
  {
   "cell_type": "code",
   "execution_count": null,
   "metadata": {
    "ExecuteTime": {
     "end_time": "2020-12-28T17:11:18.420010Z",
     "start_time": "2020-12-28T17:11:18.290786Z"
    }
   },
   "outputs": [],
   "source": [
    "labels_id = ['0', '1', '2', '3', '4', '5', '6', '7', '8', '9']\n",
    "x = [i for i in range(len(labels_id))]\n",
    "count_in_train = [y_test.count(label) / len(y_test) for label in range(10)]  # 统计训练集占比\n",
    "plt.figure()\n",
    "plt.bar(x, count_in_train, width=0.5, label=\"train_set\")\n",
    "plt.legend()\n",
    "plt.show()"
   ]
  },
  {
   "cell_type": "code",
   "execution_count": null,
   "metadata": {
    "ExecuteTime": {
     "end_time": "2020-12-28T16:54:54.434607Z",
     "start_time": "2020-12-28T16:54:54.428558Z"
    }
   },
   "outputs": [],
   "source": [
    "count_in_train"
   ]
  },
  {
   "cell_type": "code",
   "execution_count": 435,
   "metadata": {
    "ExecuteTime": {
     "end_time": "2021-01-04T09:58:54.634149Z",
     "start_time": "2021-01-04T09:58:54.631702Z"
    }
   },
   "outputs": [],
   "source": [
    "# 定义类别列表\n",
    "LABEL_INDEX = ['Cause-Effect', 'Instrument-Agency', 'Product-Producer',\n",
    "               'Content-Container', 'Entity-Origin', 'Entity-Destination',\n",
    "               'Component-Whole', 'Member-Collection', 'Message-Topic', 'Other']"
   ]
  },
  {
   "cell_type": "code",
   "execution_count": 477,
   "metadata": {
    "ExecuteTime": {
     "end_time": "2021-01-04T11:12:11.476640Z",
     "start_time": "2021-01-04T11:12:11.471594Z"
    }
   },
   "outputs": [],
   "source": [
    "with open('./result/results.txt','w', encoding='utf-8') as f:\n",
    "    for i in range(len(y_test)):\n",
    "        line = LABEL_INDEX[int(y_test[i])]\n",
    "        f.write(str(line) + '\\n')"
   ]
  },
  {
   "cell_type": "code",
   "execution_count": null,
   "metadata": {},
   "outputs": [],
   "source": []
  },
  {
   "cell_type": "code",
   "execution_count": null,
   "metadata": {
    "ExecuteTime": {
     "end_time": "2020-12-28T15:20:47.655433Z",
     "start_time": "2020-12-28T15:20:47.647781Z"
    }
   },
   "outputs": [],
   "source": [
    "result_text = []\n",
    "with open('./result/results.txt','r', encoding='utf-8') as f:\n",
    "    for line in f:\n",
    "        text =line.strip().split('\\n')\n",
    "        text = text[0]\n",
    "        result_text.append(text)\n",
    "        \n",
    "print(len(result_text),result_text[1:10])"
   ]
  },
  {
   "cell_type": "code",
   "execution_count": null,
   "metadata": {},
   "outputs": [],
   "source": []
  },
  {
   "cell_type": "code",
   "execution_count": null,
   "metadata": {},
   "outputs": [],
   "source": []
  },
  {
   "cell_type": "code",
   "execution_count": null,
   "metadata": {},
   "outputs": [],
   "source": []
  },
  {
   "cell_type": "code",
   "execution_count": null,
   "metadata": {},
   "outputs": [],
   "source": [
    "temp = krs.layers.Embedding(len(dict.items()),\n",
    "                embedding_size, input_length = max_sequence_length,\n",
    "                 mask_zero= True    )\n",
    "#print(type(text_processed[:4]),input_text.shape,text_processed.shape)\n",
    "input_text = text_processed[:4]\n",
    "#output = temp(input_text)\n",
    "embedding = krs.layers.Embedding(input_dim=5000, output_dim=16, mask_zero=True)\n",
    "\n",
    "masked_output = embedding(padded_inputs)"
   ]
  },
  {
   "cell_type": "code",
   "execution_count": null,
   "metadata": {},
   "outputs": [],
   "source": [
    "raw_inputs = [\n",
    "    [711, 632, 71],\n",
    "    [73, 8, 3215, 55, 927],\n",
    "    [83, 91, 1, 645, 1253, 927],\n",
    "]\n",
    "\n",
    "# By default, this will pad using 0s; it is configurable via the\n",
    "# \"value\" parameter.\n",
    "# Note that you could \"pre\" padding (at the beginning) or\n",
    "# \"post\" padding (at the end).\n",
    "# We recommend using \"post\" padding when working with RNN layers\n",
    "# (in order to be able to use the\n",
    "# CuDNN implementation of the layers).\n",
    "padded_inputs = tf.keras.preprocessing.sequence.pad_sequences(\n",
    "    raw_inputs, padding=\"post\"\n",
    ")\n",
    "print(padded_inputs)"
   ]
  },
  {
   "cell_type": "code",
   "execution_count": null,
   "metadata": {},
   "outputs": [],
   "source": []
  },
  {
   "cell_type": "code",
   "execution_count": null,
   "metadata": {},
   "outputs": [],
   "source": [
    "def read_data(path):\n",
    "    label_list, text_list = [], []\n",
    "    k = 0\n",
    "    with open(path, 'r', encoding='utf-8') as f:\n",
    "        for line in f :\n",
    "            k += 1\n",
    "            text = line.strip().split('\\t')\n",
    "            label_list.append(labels_dict[text[2]]) #返回label的值\n",
    "            #print(k)\n",
    "            #print(line)\n",
    "            text_list.append(text[3])\n",
    "    return text_list, label_list"
   ]
  },
  {
   "cell_type": "code",
   "execution_count": null,
   "metadata": {
    "ExecuteTime": {
     "end_time": "2020-12-27T03:51:30.328265Z",
     "start_time": "2020-12-27T03:51:30.267668Z"
    }
   },
   "outputs": [],
   "source": []
  },
  {
   "cell_type": "code",
   "execution_count": null,
   "metadata": {},
   "outputs": [],
   "source": []
  }
 ],
 "metadata": {
  "kernelspec": {
   "display_name": "Python 3",
   "language": "python",
   "name": "python3"
  },
  "language_info": {
   "codemirror_mode": {
    "name": "ipython",
    "version": 3
   },
   "file_extension": ".py",
   "mimetype": "text/x-python",
   "name": "python",
   "nbconvert_exporter": "python",
   "pygments_lexer": "ipython3",
   "version": "3.7.8"
  },
  "toc": {
   "base_numbering": 1,
   "nav_menu": {},
   "number_sections": true,
   "sideBar": true,
   "skip_h1_title": false,
   "title_cell": "Table of Contents",
   "title_sidebar": "Contents",
   "toc_cell": false,
   "toc_position": {},
   "toc_section_display": true,
   "toc_window_display": false
  },
  "varInspector": {
   "cols": {
    "lenName": 16,
    "lenType": 16,
    "lenVar": 40
   },
   "kernels_config": {
    "python": {
     "delete_cmd_postfix": "",
     "delete_cmd_prefix": "del ",
     "library": "var_list.py",
     "varRefreshCmd": "print(var_dic_list())"
    },
    "r": {
     "delete_cmd_postfix": ") ",
     "delete_cmd_prefix": "rm(",
     "library": "var_list.r",
     "varRefreshCmd": "cat(var_dic_list()) "
    }
   },
   "oldHeight": 419.3333332538605,
   "position": {
    "height": "767.9791870117188px",
    "left": "1064.666748046875px",
    "right": "20px",
    "top": "165px",
    "width": "484.2708435058594px"
   },
   "types_to_exclude": [
    "module",
    "function",
    "builtin_function_or_method",
    "instance",
    "_Feature"
   ],
   "varInspector_section_display": "block",
   "window_display": false
  }
 },
 "nbformat": 4,
 "nbformat_minor": 4
}
